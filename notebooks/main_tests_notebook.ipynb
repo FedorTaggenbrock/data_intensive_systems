{
  "cells": [
    {
      "cell_type": "markdown",
      "metadata": {
        "id": "view-in-github",
        "colab_type": "text"
      },
      "source": [
        "<a href=\"https://colab.research.google.com/github/FedorTaggenbrock/data_intensive_systems/blob/main/notebooks/main_tests_notebook.ipynb\" target=\"_parent\"><img src=\"https://colab.research.google.com/assets/colab-badge.svg\" alt=\"Open In Colab\"/></a>"
      ]
    },
    {
      "cell_type": "markdown",
      "metadata": {
        "id": "5aPsU73HSlLI"
      },
      "source": [
        "**Handle importing/installing, both local and on Colab**"
      ]
    },
    {
      "cell_type": "code",
      "execution_count": 1,
      "metadata": {
        "colab": {
          "base_uri": "https://localhost:8080/"
        },
        "id": "INJqht4-StzH",
        "outputId": "ba27d3c5-5cb9-4e03-b703-c1eaddf0c8ca"
      },
      "outputs": [
        {
          "output_type": "stream",
          "name": "stdout",
          "text": [
            "Looking in indexes: https://pypi.org/simple, https://us-python.pkg.dev/colab-wheels/public/simple/\n",
            "Collecting pyspark\n",
            "  Downloading pyspark-3.4.1.tar.gz (310.8 MB)\n",
            "\u001b[2K     \u001b[90m━━━━━━━━━━━━━━━━━━━━━━━━━━━━━━━━━━━━━━━\u001b[0m \u001b[32m310.8/310.8 MB\u001b[0m \u001b[31m2.4 MB/s\u001b[0m eta \u001b[36m0:00:00\u001b[0m\n",
            "\u001b[?25h  Preparing metadata (setup.py) ... \u001b[?25l\u001b[?25hdone\n",
            "Requirement already satisfied: py4j==0.10.9.7 in /usr/local/lib/python3.10/dist-packages (from pyspark) (0.10.9.7)\n",
            "Building wheels for collected packages: pyspark\n",
            "  Building wheel for pyspark (setup.py) ... \u001b[?25l\u001b[?25hdone\n",
            "  Created wheel for pyspark: filename=pyspark-3.4.1-py2.py3-none-any.whl size=311285398 sha256=51ae348483ed0f0acff63301adee438abeefc40a9cc6012e46a4ab93bbf32ccd\n",
            "  Stored in directory: /root/.cache/pip/wheels/0d/77/a3/ff2f74cc9ab41f8f594dabf0579c2a7c6de920d584206e0834\n",
            "Successfully built pyspark\n",
            "Installing collected packages: pyspark\n",
            "Successfully installed pyspark-3.4.1\n",
            "Looking in indexes: https://pypi.org/simple, https://us-python.pkg.dev/colab-wheels/public/simple/\n",
            "Collecting ijson\n",
            "  Downloading ijson-3.2.2-cp310-cp310-manylinux_2_17_x86_64.manylinux2014_x86_64.whl (112 kB)\n",
            "\u001b[2K     \u001b[90m━━━━━━━━━━━━━━━━━━━━━━━━━━━━━━━━━━━━━━━\u001b[0m \u001b[32m112.7/112.7 kB\u001b[0m \u001b[31m5.0 MB/s\u001b[0m eta \u001b[36m0:00:00\u001b[0m\n",
            "\u001b[?25hInstalling collected packages: ijson\n",
            "Successfully installed ijson-3.2.2\n"
          ]
        }
      ],
      "source": [
        "import sys\n",
        "global ON_COLAB\n",
        "ON_COLAB = 'google.colab' in sys.modules\n",
        "if ON_COLAB:\n",
        "    # Do stuff that only needs to happen on colab\n",
        "    !pip install pyspark  # noqa\n",
        "    !pip install ijson\n",
        "    pass\n",
        "else:\n",
        "    # Do stuff that only needs to happen on local computer\n",
        "    pass"
      ]
    },
    {
      "cell_type": "markdown",
      "metadata": {
        "collapsed": false,
        "id": "b6jttgVIJsPe"
      },
      "source": [
        "Rerun the code cell below to use the latest version of the python files!"
      ]
    },
    {
      "cell_type": "code",
      "execution_count": 10,
      "metadata": {
        "colab": {
          "base_uri": "https://localhost:8080/"
        },
        "id": "M_cMlVTtz4Ad",
        "outputId": "0448d510-4087-435a-deb4-8e4ad13a056f"
      },
      "outputs": [
        {
          "output_type": "stream",
          "name": "stdout",
          "text": [
            "Running in Colab: importing from GitHub.\n",
            "fatal: destination path 'data_intensive_systems' already exists and is not an empty directory.\n",
            "/content/data_intensive_systems\n",
            "remote: Enumerating objects: 7, done.\u001b[K\n",
            "remote: Counting objects: 100% (7/7), done.\u001b[K\n",
            "remote: Compressing objects: 100% (1/1), done.\u001b[K\n",
            "remote: Total 4 (delta 3), reused 4 (delta 3), pack-reused 0\u001b[K\n",
            "Unpacking objects: 100% (4/4), 355 bytes | 355.00 KiB/s, done.\n",
            "From https://github.com/FedorTaggenbrock/data_intensive_systems\n",
            " * branch            main       -> FETCH_HEAD\n",
            "   299c3bf..aa3edea  main       -> origin/main\n",
            "Updating 299c3bf..aa3edea\n",
            "Fast-forward\n",
            " src/clustering.py | 4 \u001b[32m++\u001b[m\u001b[31m--\u001b[m\n",
            " 1 file changed, 2 insertions(+), 2 deletions(-)\n",
            "/content\n",
            "clustering\n",
            "data_visualization\n",
            "distance_functions\n",
            "evaluate_clustering\n",
            "generate_data\n",
            "main_tests\n",
            "plot_clustering\n",
            "parse_data\n",
            "abe_tests\n"
          ]
        }
      ],
      "source": [
        "import importlib\n",
        "\n",
        "def import_modules():\n",
        "    if ON_COLAB:\n",
        "        print(\"Running in Colab: importing from GitHub.\")\n",
        "        # Clone the repository\n",
        "        !git clone https://github.com/FedorTaggenbrock/data_intensive_systems.git\n",
        "\n",
        "        # Change the current working directory to the cloned repository directory\n",
        "        %cd /content/data_intensive_systems\n",
        "\n",
        "        # Pull the latest changes from the repository\n",
        "        !git pull origin main\n",
        "\n",
        "        # Change back to the original working directory\n",
        "        %cd /content\n",
        "\n",
        "        # Add the path of the modules to sys.path\n",
        "        sys.path.insert(0, \"/content/data_intensive_systems/src\")\n",
        "    else:\n",
        "        print(\"Running locally, importing from local.\")\n",
        "        # Append parent folder to path\n",
        "        sys.path.append('../src')\n",
        "\n",
        "    # Import and reload modules iteratively\n",
        "    module_names = ['clustering',\n",
        "                    'data_visualization',\n",
        "                    'distance_functions',\n",
        "                    'evaluate_clustering',\n",
        "                    'generate_data',\n",
        "                    'main_tests',\n",
        "                    'plot_clustering',\n",
        "                    # 'non_spark_function_debugger',\n",
        "                    'parse_data',\n",
        "                    # 'parse_data_2',\n",
        "                    # 'parse_data_3',\n",
        "                    'abe_tests',\n",
        "                    ]\n",
        "    for module_name in module_names:\n",
        "        print(module_name)\n",
        "\n",
        "        module = importlib.import_module(module_name)\n",
        "        importlib.reload(module)\n",
        "        globals()[module_name] = module\n",
        "\n",
        "import_modules()\n"
      ]
    },
    {
      "cell_type": "code",
      "execution_count": null,
      "metadata": {
        "colab": {
          "base_uri": "https://localhost:8080/",
          "height": 344
        },
        "id": "WEkh8sL6N742",
        "outputId": "2b9fe51f-b565-4b65-900d-a26f87a53ed9"
      },
      "outputs": [
        {
          "output_type": "stream",
          "name": "stdout",
          "text": [
            "Loading data\n"
          ]
        },
        {
          "output_type": "error",
          "ename": "FileNotFoundError",
          "evalue": "ignored",
          "traceback": [
            "\u001b[0;31m---------------------------------------------------------------------------\u001b[0m",
            "\u001b[0;31mFileNotFoundError\u001b[0m                         Traceback (most recent call last)",
            "\u001b[0;32m<ipython-input-8-0d0190a3925e>\u001b[0m in \u001b[0;36m<cell line: 1>\u001b[0;34m()\u001b[0m\n\u001b[0;32m----> 1\u001b[0;31m \u001b[0mmain_tests\u001b[0m\u001b[0;34m.\u001b[0m\u001b[0mrun_all_tests\u001b[0m\u001b[0;34m(\u001b[0m\u001b[0;34m)\u001b[0m\u001b[0;34m\u001b[0m\u001b[0;34m\u001b[0m\u001b[0m\n\u001b[0m",
            "\u001b[0;32m/content/data_intensive_systems/src/main_tests.py\u001b[0m in \u001b[0;36mrun_all_tests\u001b[0;34m()\u001b[0m\n\u001b[1;32m     34\u001b[0m     \u001b[0mprint\u001b[0m\u001b[0;34m(\u001b[0m\u001b[0;34m\"Loading data\"\u001b[0m\u001b[0;34m)\u001b[0m\u001b[0;34m\u001b[0m\u001b[0;34m\u001b[0m\u001b[0m\n\u001b[1;32m     35\u001b[0m     \u001b[0;31m# actual_routes_rdd, num_routes = get_data(spark, 'data_intensive_systems/data/1000_0.25_actual_routes.json', clustering_settings)\u001b[0m\u001b[0;34m\u001b[0m\u001b[0;34m\u001b[0m\u001b[0m\n\u001b[0;32m---> 36\u001b[0;31m     \u001b[0mactual_routes_rdd\u001b[0m\u001b[0;34m,\u001b[0m \u001b[0mnum_routes\u001b[0m \u001b[0;34m=\u001b[0m \u001b[0mget_data_3\u001b[0m\u001b[0;34m(\u001b[0m\u001b[0mspark\u001b[0m\u001b[0;34m,\u001b[0m \u001b[0;34m'data/1000_0.25_actual_routes.json'\u001b[0m\u001b[0;34m,\u001b[0m \u001b[0mclustering_settings\u001b[0m\u001b[0;34m)\u001b[0m\u001b[0;34m\u001b[0m\u001b[0;34m\u001b[0m\u001b[0m\n\u001b[0m\u001b[1;32m     37\u001b[0m \u001b[0;34m\u001b[0m\u001b[0m\n\u001b[1;32m     38\u001b[0m     \u001b[0mclustering_settings\u001b[0m\u001b[0;34m[\u001b[0m\u001b[0;34m\"num_actual_routes\"\u001b[0m\u001b[0;34m]\u001b[0m \u001b[0;34m=\u001b[0m \u001b[0mnum_routes\u001b[0m\u001b[0;34m\u001b[0m\u001b[0;34m\u001b[0m\u001b[0m\n",
            "\u001b[0;32m/content/data_intensive_systems/src/parse_data_3.py\u001b[0m in \u001b[0;36mget_data_3\u001b[0;34m(spark, path, clustering_settings)\u001b[0m\n\u001b[1;32m     50\u001b[0m \u001b[0;34m\u001b[0m\u001b[0m\n\u001b[1;32m     51\u001b[0m \u001b[0;32mdef\u001b[0m \u001b[0mget_data_3\u001b[0m\u001b[0;34m(\u001b[0m\u001b[0mspark\u001b[0m\u001b[0;34m,\u001b[0m \u001b[0mpath\u001b[0m\u001b[0;34m,\u001b[0m \u001b[0mclustering_settings\u001b[0m\u001b[0;34m)\u001b[0m\u001b[0;34m:\u001b[0m\u001b[0;34m\u001b[0m\u001b[0;34m\u001b[0m\u001b[0m\n\u001b[0;32m---> 52\u001b[0;31m   \u001b[0mdf\u001b[0m\u001b[0;34m,\u001b[0m \u001b[0mfrom_tos\u001b[0m\u001b[0;34m,\u001b[0m \u001b[0mproducts\u001b[0m\u001b[0;34m,\u001b[0m \u001b[0mnum_routes\u001b[0m \u001b[0;34m=\u001b[0m \u001b[0mparse_json_data_3\u001b[0m\u001b[0;34m(\u001b[0m\u001b[0mpath\u001b[0m\u001b[0;34m,\u001b[0m \u001b[0mclustering_settings\u001b[0m\u001b[0;34m[\u001b[0m\u001b[0;34m\"debug_flag\"\u001b[0m\u001b[0;34m]\u001b[0m\u001b[0;34m)\u001b[0m\u001b[0;34m\u001b[0m\u001b[0;34m\u001b[0m\u001b[0m\n\u001b[0m\u001b[1;32m     53\u001b[0m \u001b[0;34m\u001b[0m\u001b[0m\n\u001b[1;32m     54\u001b[0m   \u001b[0mschema\u001b[0m \u001b[0;34m=\u001b[0m \u001b[0mStructType\u001b[0m\u001b[0;34m(\u001b[0m\u001b[0;34m[\u001b[0m\u001b[0mStructField\u001b[0m\u001b[0;34m(\u001b[0m\u001b[0;34m\"id-sr\"\u001b[0m\u001b[0;34m,\u001b[0m\u001b[0mStringType\u001b[0m\u001b[0;34m(\u001b[0m\u001b[0;34m)\u001b[0m\u001b[0;34m)\u001b[0m\u001b[0;34m]\u001b[0m \u001b[0;34m+\u001b[0m \u001b[0;34m[\u001b[0m\u001b[0mStructField\u001b[0m\u001b[0;34m(\u001b[0m\u001b[0mfrom_to\u001b[0m\u001b[0;34m,\u001b[0m \u001b[0mMapType\u001b[0m\u001b[0;34m(\u001b[0m\u001b[0mIntegerType\u001b[0m\u001b[0;34m(\u001b[0m\u001b[0;34m)\u001b[0m\u001b[0;34m,\u001b[0m \u001b[0mIntegerType\u001b[0m\u001b[0;34m(\u001b[0m\u001b[0;34m)\u001b[0m\u001b[0;34m)\u001b[0m\u001b[0;34m)\u001b[0m \u001b[0;32mfor\u001b[0m \u001b[0mfrom_to\u001b[0m \u001b[0;32min\u001b[0m \u001b[0mfrom_tos\u001b[0m\u001b[0;34m]\u001b[0m  \u001b[0;34m)\u001b[0m\u001b[0;34m\u001b[0m\u001b[0;34m\u001b[0m\u001b[0m\n",
            "\u001b[0;32m/content/data_intensive_systems/src/parse_data_3.py\u001b[0m in \u001b[0;36mparse_json_data_3\u001b[0;34m(json_path, debug_flag)\u001b[0m\n\u001b[1;32m     16\u001b[0m     \u001b[0mfrom_tos\u001b[0m \u001b[0;34m=\u001b[0m \u001b[0mset\u001b[0m\u001b[0;34m(\u001b[0m\u001b[0;34m)\u001b[0m\u001b[0;34m\u001b[0m\u001b[0;34m\u001b[0m\u001b[0m\n\u001b[1;32m     17\u001b[0m     \u001b[0mproducts\u001b[0m \u001b[0;34m=\u001b[0m \u001b[0mset\u001b[0m\u001b[0;34m(\u001b[0m\u001b[0;34m)\u001b[0m\u001b[0;34m\u001b[0m\u001b[0;34m\u001b[0m\u001b[0m\n\u001b[0;32m---> 18\u001b[0;31m     \u001b[0;32mwith\u001b[0m \u001b[0mopen\u001b[0m\u001b[0;34m(\u001b[0m\u001b[0mjson_path\u001b[0m\u001b[0;34m,\u001b[0m \u001b[0;34m'rb'\u001b[0m\u001b[0;34m)\u001b[0m \u001b[0;32mas\u001b[0m \u001b[0mf\u001b[0m\u001b[0;34m:\u001b[0m\u001b[0;34m\u001b[0m\u001b[0;34m\u001b[0m\u001b[0m\n\u001b[0m\u001b[1;32m     19\u001b[0m         \u001b[0;32mfor\u001b[0m \u001b[0mrow\u001b[0m \u001b[0;32min\u001b[0m \u001b[0mijson\u001b[0m\u001b[0;34m.\u001b[0m\u001b[0mitems\u001b[0m\u001b[0;34m(\u001b[0m\u001b[0mf\u001b[0m\u001b[0;34m,\u001b[0m \u001b[0;34m\"item\"\u001b[0m\u001b[0;34m)\u001b[0m\u001b[0;34m:\u001b[0m\u001b[0;34m\u001b[0m\u001b[0;34m\u001b[0m\u001b[0m\n\u001b[1;32m     20\u001b[0m             \u001b[0mnum_routes\u001b[0m \u001b[0;34m+=\u001b[0m \u001b[0;36m1\u001b[0m\u001b[0;34m\u001b[0m\u001b[0;34m\u001b[0m\u001b[0m\n",
            "\u001b[0;31mFileNotFoundError\u001b[0m: [Errno 2] No such file or directory: 'data/1000_0.25_actual_routes.json'"
          ]
        }
      ],
      "source": [
        "main_tests.run_all_tests()"
      ]
    },
    {
      "cell_type": "markdown",
      "source": [
        "-------"
      ],
      "metadata": {
        "id": "M0s-dx_d6sSc"
      }
    },
    {
      "cell_type": "code",
      "source": [
        "abe_tests.__run_all_tests()"
      ],
      "metadata": {
        "id": "FH5WxolLdo70"
      },
      "execution_count": null,
      "outputs": []
    },
    {
      "cell_type": "code",
      "source": [
        "# General modules\n",
        "import numpy as np\n",
        "import scipy.spatial.distance\n",
        "from sklearn.metrics import silhouette_score, davies_bouldin_score, calinski_harabasz_score\n",
        "import pickle\n",
        "import sys\n",
        "import os\n",
        "\n",
        "# Spark etc\n",
        "from pyspark import RDD\n",
        "from pyspark.sql import SparkSession\n",
        "\n",
        "# Typing\n",
        "from typing import Any, Callable, Union\n",
        "\n",
        "\n",
        "from pyspark.sql import SparkSession\n",
        "import pandas as pd\n",
        "\n",
        "# Own stuff\n",
        "\n",
        "# from data_visualization import plot_routes, convert_pd_df_to_one_row\n",
        "from plot_clustering import plot_metrics, plot_confusion_matrix\n",
        "from clustering import run_clustering, run_final_clustering, route_distance\n",
        "from parse_data import get_nested_data, get_vector_dataframe, get_data\n",
        "from evaluate_clustering import evaluate_clustering, get_best_setting\n",
        "\n",
        "def save_results_test(results, clustering_settings):\n",
        "    os.makedirs('data/serialized_results_for_debugging/', exist_ok=True)\n",
        "    # Make the name of the file\n",
        "    algo = clustering_settings['clustering_algorithm']\n",
        "    kvals = '[' + '-'.join( [str(kval) for kval in clustering_settings['k_values']] ) + ']'\n",
        "    iters = clustering_settings['max_iterations']\n",
        "    name = f\"algo={algo}_kvalues={kvals}_maxiter={iters}\"\n",
        "\n",
        "    with open('data/serialized_results_for_debugging/results__{}__.pkl'.format(name), 'wb') as f:\n",
        "        pickle.dump(results, f)\n",
        "\n",
        "def load_results(path=r'data\\serialized_results_for_debugging\\results__algo=kmodes_kvalues=[3]_max_iter=4.pkl'):\n",
        "    with open(path, 'rb') as f:\n",
        "        return pickle.load(f)\n",
        "\n",
        "clustering_settings = {\n",
        "        'clustering_algorithm': 'kmeans',\n",
        "        'k_values': [4, 5, 6, 7, 8, 9, 10, 11, 12, 13],\n",
        "        'distance_function': route_distance,\n",
        "        'max_iterations': 4,\n",
        "        'debug_flag': False,\n",
        "    }\n",
        "\n",
        "spark = None\n",
        "spark = SparkSession.builder.appName(\"Clustering\").getOrCreate()\n",
        "\n",
        "\n",
        "print(\"Loading data\")\n",
        "\n",
        "_ON_COLAB = 'google.colab' in sys.modules\n",
        "if clustering_settings['debug_flag']: print('On colab: ', _ON_COLAB)\n",
        "general_data_path = r'\\data\\data_12_06\\1000_0.25_actual_routes.json'\n",
        "general_perfect_centroids_path = r'\\data\\data_12_06\\10_standard_route.json'\n",
        "try:\n",
        "    if _ON_COLAB:\n",
        "        data_path = '/content/data_intensive_systems' + general_data_path.replace(\"\\\\\", \"/\")\n",
        "        perfect_centroid_path = '/content/data_intensive_systems/data/data_12_06/10_standard_route.json'\n",
        "    else:\n",
        "        data_path = os.getcwd() + general_data_path\n",
        "        perfect_centroid_path = os.getcwd() + general_perfect_centroids_path\n",
        "except Exception as e:\n",
        "    print('Data path was not found.\\n\\n', e)\n",
        "    data_path = None\n",
        "    perfect_centroid_path = None\n",
        "\n",
        "# Load datafile\n",
        "if clustering_settings['clustering_algorithm'] == 'kmodes':\n",
        "    data = get_nested_data(spark, data_path, clustering_settings)\n",
        "    perfect_centroids = get_nested_data(spark, perfect_centroid_path, clustering_settings)\n",
        "elif clustering_settings['clustering_algorithm'] == 'kmeans':\n",
        "    data, indices2from_to_prods = get_vector_dataframe(spark, data_path, clustering_settings[\"debug_flag\"])\n",
        "    perfect_centroids = get_vector_dataframe(spark, perfect_centroid_path, clustering_settings[\"debug_flag\"])\n",
        "else:\n",
        "    data = None\n",
        "    perfect_centroids = None\n",
        "\n",
        "# Run the clustering algorithm\n",
        "print(\"Running run_clustering().\")\n",
        "results_and_metrics = run_clustering(\n",
        "    data=data,\n",
        "    clustering_settings=clustering_settings\n",
        ")\n",
        "\n",
        "# Save the results (optional, Abe)\n",
        "save_results_test(results_and_metrics, clustering_settings)\n",
        "\n",
        "# Evaluate the clustering\n",
        "results = results_and_metrics[0]\n",
        "metrics = results_and_metrics[1]\n",
        "\n",
        "if not metrics: # if kmodes, then metrics not yet calculated\n",
        "    print(\"Start evaluating clusters\")\n",
        "    metrics = evaluate_clustering(\n",
        "        data=data,\n",
        "        clustering_result=results_and_metrics,\n",
        "        clustering_settings=clustering_settings\n",
        "    )\n",
        "\n"
      ],
      "metadata": {
        "colab": {
          "base_uri": "https://localhost:8080/"
        },
        "id": "jbcY6-tu6l79",
        "outputId": "0b55abc4-9334-4a21-c2d4-7f42ad642ac6"
      },
      "execution_count": 28,
      "outputs": [
        {
          "output_type": "stream",
          "name": "stdout",
          "text": [
            "Loading data\n",
            "Running run_clustering().\n",
            "Performing clustering with k=4\n",
            "Performing clustering with k=5\n",
            "Performing clustering with k=6\n",
            "Performing clustering with k=7\n",
            "Performing clustering with k=8\n",
            "Performing clustering with k=9\n",
            "Performing clustering with k=10\n",
            "Performing clustering with k=11\n",
            "Performing clustering with k=12\n",
            "Performing clustering with k=13\n"
          ]
        }
      ]
    },
    {
      "cell_type": "code",
      "source": [
        "best_settings = get_best_setting(metrics)\n",
        "print(\"\\nBest settings are given by: \\n\", best_settings)\n",
        "\n",
        "# Generate plots\n",
        "metric_plot = plot_metrics(metrics, clustering_settings)\n",
        "metric_plot.show()"
      ],
      "metadata": {
        "colab": {
          "base_uri": "https://localhost:8080/",
          "height": 542
        },
        "id": "X3LCrD6P7-IV",
        "outputId": "c1d8ba39-89d4-487a-8224-ea731641307b"
      },
      "execution_count": 29,
      "outputs": [
        {
          "output_type": "stream",
          "name": "stdout",
          "text": [
            "\n",
            "Best settings are given by: \n",
            " {'k': 7}\n"
          ]
        },
        {
          "output_type": "display_data",
          "data": {
            "text/plain": [
              "<Figure size 1000x500 with 2 Axes>"
            ],
            "image/png": "[encoded data removed]"
          },
          "metadata": {}
        }
      ]
    },
    {
      "cell_type": "code",
      "source": [
        "# Get final results\n",
        "clustered_data, predicted_centroids, metric = run_final_clustering(\n",
        "    data=data,\n",
        "    clustering_settings=clustering_settings,\n",
        "    best_setting=best_settings,\n",
        ")"
      ],
      "metadata": {
        "colab": {
          "base_uri": "https://localhost:8080/"
        },
        "id": "VBgfeGHaAKnZ",
        "outputId": "6a932a9b-67b7-4205-990f-8cb49a07d3eb"
      },
      "execution_count": 30,
      "outputs": [
        {
          "output_type": "stream",
          "name": "stdout",
          "text": [
            "Running final clustering with k=7\n"
          ]
        }
      ]
    },
    {
      "cell_type": "code",
      "source": [
        "import seaborn as sns\n",
        "from pyspark.sql.functions import col, count\n",
        "import matplotlib.pyplot as plt\n",
        "import numpy as np\n",
        "from scipy.optimize import linear_sum_assignment\n",
        "\n",
        "def get_confusion_matrix(clustered_df):\n",
        "    # Generate a table which has the standard routes as rows and the cluster centres as columns. It shows for each found cluster center,\n",
        "    #  which route it belongs to; this is because the datapoints in each cluster are grouped per standard-route-id.\n",
        "    grouped_df = clustered_df.withColumn(\"sr\\predicted_clusters\", col(\"id-sr\").substr(-1, 1)) \\\n",
        "    .groupBy(\"sr\\\\predicted_clusters\") \\\n",
        "    .pivot(\"prediction\") \\\n",
        "    .agg(count(\"*\").alias(\"count\"))\n",
        "\n",
        "    return grouped_df\n",
        "\n",
        "\n",
        "def plot_confusion_matrix(clustered_df):\n",
        "    \"\"\"\n",
        "    Plots the confusion matrix.\n",
        "\n",
        "    Args:\n",
        "        grouped_df: A DataFrame containing the confusion matrix data.\n",
        "\n",
        "    Returns:\n",
        "        A matplotlib figure representing the confusion matrix.\n",
        "    \"\"\"\n",
        "\n",
        "    # The id-number of the found cluster centers does not necessarily match the id-number of the standard routes.\n",
        "    # Therefore, we need to map the found cluster center id's to the standard route id's, by seeing which cluster center\n",
        "    # it corresponds with best. This is done by taking the max index (in terms of the row) for each column.\n",
        "    # This is the standard route id that corresponds with the cluster center. However, a problem is there can be more or fewer cluster centers\n",
        "    # than standard routes. Therefore, we need to check if there are duplicates in the resulting list of max-indices. The highest of the two, should be assigned\n",
        "    # to that cluster center. The other one should be assigned to the next-best cluster-center, but only if it is a better match than the current one. Then, the current one\n",
        "    # needs to be checked, and so on. Since there may be more centers than routes, it is okay that some get an id higher than the number of routes.\n",
        "\n",
        "    debug1=True\n",
        "\n",
        "    # Get the data from the dataframe into pandas format\n",
        "    grouped_df = get_confusion_matrix(clustered_df)\n",
        "    grouped_df_pd = grouped_df.toPandas()\n",
        "    grouped_df_pd = grouped_df_pd.set_index('sr\\\\predicted_clusters').fillna(0)\n",
        "\n",
        "    # Sort DataFrame by index of standard routes\n",
        "    grouped_df_pd = grouped_df_pd.sort_index()\n",
        "\n",
        "    # 1. Get max indices\n",
        "    max_indices = grouped_df_pd.idxmax()\n",
        "\n",
        "    if debug1: print(grouped_df_pd, '\\n')\n",
        "    if debug1: print('max_indices:',max_indices)\n",
        "\n",
        "    # 2. Handle duplicate max indices\n",
        "\n",
        "    # Normalize the data to reflect the \"strength\" of the association between the clusters and the routes\n",
        "    grouped_df_pd_normalized = grouped_df_pd.divide(grouped_df_pd.sum(axis=0), axis=1)\n",
        "\n",
        "    # 2. Handle duplicate max indices\n",
        "    max_values = grouped_df_pd_normalized.max()\n",
        "    assigned_clusters = []\n",
        "    unassigned_routes = []\n",
        "\n",
        "    for idx, val in max_indices.duplicated(keep=False).items():\n",
        "        if val:\n",
        "            duplicates = max_indices[max_indices == max_indices[idx]]\n",
        "            for dup in duplicates.index:\n",
        "                # 3. Reassign to next best\n",
        "                if max_values[dup] < max_values[idx] or idx in assigned_clusters:\n",
        "                    new_assignment = grouped_df_pd_normalized[dup].nlargest(2).index[1]\n",
        "                    if new_assignment in assigned_clusters:\n",
        "                        unassigned_routes.append(idx)\n",
        "                    else:\n",
        "                        max_indices[dup] = new_assignment\n",
        "                        assigned_clusters.append(new_assignment)\n",
        "                else:\n",
        "                    assigned_clusters.append(idx)\n",
        "\n",
        "\n",
        "    # 4. Handling more cluster centers than routes\n",
        "    max_indices_list = max_indices.tolist()\n",
        "\n",
        "    if debug1: print('max_indices_list',max_indices_list)\n",
        "\n",
        "    if len(max_indices_list) > len(set(max_indices_list)):\n",
        "        unique_vals = list(set(max_indices_list))\n",
        "        duplicates = list(set([x for x in max_indices_list if max_indices_list.count(x) > 1]))\n",
        "        for dup in duplicates:\n",
        "            indices = [i for i, x in enumerate(max_indices_list) if x == dup]\n",
        "            for ind in indices[1:]:\n",
        "                max_indices_list[ind] = max(unique_vals) + 1\n",
        "                unique_vals.append(max_indices_list[ind])\n",
        "\n",
        "        if debug1: print('unique_vals', unique_vals)\n",
        "        if debug1: print('duplicates', duplicates)\n",
        "    else:\n",
        "        if debug1: print('not len(max_indices_list) > len(set(max_indices_list))')\n",
        "\n",
        "    # 5. Handling fewer cluster centers than routes\n",
        "\n",
        "    if debug1: print(f\"unassigned routes: {unassigned_routes}\")\n",
        "\n",
        "    for unassigned in unassigned_routes:\n",
        "        max_indices_list[unassigned] = max(unique_vals) + 1\n",
        "        unique_vals.append(max_indices_list[unassigned])\n",
        "\n",
        "   # Create a mapping from column names to their new indices.\n",
        "    col_mapping = {col: i for i, col in enumerate(max_indices_list)}\n",
        "\n",
        "    # Reorder the columns by the mapped indices.\n",
        "    grouped_df_pd = grouped_df_pd.sort_index(axis=1, key=lambda x: [col_mapping.get(col, len(max_indices_list)) for col in x])\n",
        "\n",
        "    # The key=lambda x: [col_mapping.get(col, len(max_indices_list)) for col in x]\n",
        "    # part will use the index in max_indices_list if the column is present there,\n",
        "    # or the length of max_indices_list otherwise. This will place any extra columns\n",
        "    # that are not in max_indices_list at the end.\n",
        "\n",
        "    # if debug1: print(grouped_df_pd)\n",
        "\n",
        "    # Normalization and deviation score calculation\n",
        "    normalized_grouped_df_pd = grouped_df_pd.divide(grouped_df_pd.sum(axis=0), axis=1)\n",
        "\n",
        "    deviation_score = normalized_grouped_df_pd\n",
        "\n",
        "    if debug1: print(normalized_grouped_df_pd)\n",
        "\n",
        "    # Now we can use this `deviation_score` dataframe to visualize it.\n",
        "    fig, ax = plt.subplots(figsize=(10, 10))\n",
        "    sns.heatmap(normalized_grouped_df_pd, annot=True, fmt='g', cmap='Blues', ax=ax)\n",
        "    ax.set_xlabel('Cluster Center ID')\n",
        "    ax.set_ylabel('Standard Route ID')\n",
        "    ax.set_title('Confusion Matrix Deviation Score')\n",
        "\n",
        "    return fig\n"
      ],
      "metadata": {
        "id": "V6TowLTKGJYX"
      },
      "execution_count": 80,
      "outputs": []
    },
    {
      "cell_type": "code",
      "source": [
        "# Show confusion matrix\n",
        "confusion_plot = plot_confusion_matrix(clustered_data) #  indices2from_to_prods)"
      ],
      "metadata": {
        "colab": {
          "base_uri": "https://localhost:8080/",
          "height": 1000
        },
        "id": "TrMc-HNe6l_h",
        "outputId": "c6b09e55-cfb0-43b2-d487-54ae4d5e1dce"
      },
      "execution_count": 81,
      "outputs": [
        {
          "output_type": "stream",
          "name": "stdout",
          "text": [
            "                           0      1      2      3      4      5      6\n",
            "sr\\predicted_clusters                                                 \n",
            "0                        0.0    0.0    0.0    0.0    0.0  100.0    0.0\n",
            "1                        0.0  100.0    0.0    0.0    0.0    0.0    0.0\n",
            "2                        0.0    0.0    0.0    0.0    0.0    0.0  100.0\n",
            "3                        0.0    0.0    0.0    0.0    0.0    0.0  100.0\n",
            "4                        0.0    0.0    0.0    0.0    0.0    0.0  100.0\n",
            "5                      100.0    0.0    0.0    0.0    0.0    0.0    0.0\n",
            "6                        0.0    0.0  100.0    0.0    0.0    0.0    0.0\n",
            "7                        0.0    0.0    0.0    0.0  100.0    0.0    0.0\n",
            "8                        0.0    0.0    0.0    0.0    0.0    0.0  100.0\n",
            "9                        0.0    0.0    0.0  100.0    0.0    0.0    0.0 \n",
            "\n",
            "max_indices: 0    5\n",
            "1    1\n",
            "2    6\n",
            "3    9\n",
            "4    7\n",
            "5    0\n",
            "6    2\n",
            "dtype: object\n",
            "max_indices_list ['5', '1', '6', '9', '7', '0', '2']\n",
            "not len(max_indices_list) > len(set(max_indices_list))\n",
            "unassigned routes: []\n",
            "                         5    1     6    0    2    3    4\n",
            "sr\\predicted_clusters                                    \n",
            "0                      1.0  0.0  0.00  0.0  0.0  0.0  0.0\n",
            "1                      0.0  1.0  0.00  0.0  0.0  0.0  0.0\n",
            "2                      0.0  0.0  0.25  0.0  0.0  0.0  0.0\n",
            "3                      0.0  0.0  0.25  0.0  0.0  0.0  0.0\n",
            "4                      0.0  0.0  0.25  0.0  0.0  0.0  0.0\n",
            "5                      0.0  0.0  0.00  1.0  0.0  0.0  0.0\n",
            "6                      0.0  0.0  0.00  0.0  1.0  0.0  0.0\n",
            "7                      0.0  0.0  0.00  0.0  0.0  0.0  1.0\n",
            "8                      0.0  0.0  0.25  0.0  0.0  0.0  0.0\n",
            "9                      0.0  0.0  0.00  0.0  0.0  1.0  0.0\n"
          ]
        },
        {
          "output_type": "display_data",
          "data": {
            "text/plain": [
              "<Figure size 1000x1000 with 2 Axes>"
            ],
            "image/png": "[encoded data removed]"
          },
          "metadata": {}
        }
      ]
    },
    {
      "cell_type": "code",
      "source": [
        "best_settings['silhouette_score']['k']"
      ],
      "metadata": {
        "colab": {
          "base_uri": "https://localhost:8080/"
        },
        "id": "d1Xc2N-A88to",
        "outputId": "d9d0e93c-760c-4563-9acd-dd78604901aa"
      },
      "execution_count": 18,
      "outputs": [
        {
          "output_type": "execute_result",
          "data": {
            "text/plain": [
              "7"
            ]
          },
          "metadata": {},
          "execution_count": 18
        }
      ]
    },
    {
      "cell_type": "code",
      "source": [],
      "metadata": {
        "id": "aZ-sFJnS6mDn"
      },
      "execution_count": null,
      "outputs": []
    },
    {
      "cell_type": "code",
      "source": [],
      "metadata": {
        "id": "GAlZu1Fe6mNi"
      },
      "execution_count": null,
      "outputs": []
    },
    {
      "cell_type": "markdown",
      "metadata": {
        "collapsed": false,
        "id": "FMg9vvjcJsPg"
      },
      "source": [
        "Test all functions you want inside the run_all_tests() during development, for small sample sizes.\n"
      ]
    },
    {
      "cell_type": "markdown",
      "metadata": {
        "collapsed": false,
        "id": "BRrS6t9JJsPg"
      },
      "source": [
        "Code below is for actual result generation later, so that we can easily reuse intermediate values."
      ]
    },
    {
      "cell_type": "markdown",
      "metadata": {
        "id": "qoGwAnHNN743"
      },
      "source": [
        "**Create a spark instance**"
      ]
    },
    {
      "cell_type": "code",
      "execution_count": null,
      "metadata": {
        "colab": {
          "base_uri": "https://localhost:8080/",
          "height": 183
        },
        "id": "MN8NRmi1N743",
        "outputId": "806faa7d-0417-4077-bf75-2d5979a24d2e"
      },
      "outputs": [
        {
          "ename": "NameError",
          "evalue": "ignored",
          "output_type": "error",
          "traceback": [
            "\u001b[0;31m---------------------------------------------------------------------------\u001b[0m",
            "\u001b[0;31mNameError\u001b[0m                                 Traceback (most recent call last)",
            "\u001b[0;32m<ipython-input-5-e48a53e48df8>\u001b[0m in \u001b[0;36m<cell line: 2>\u001b[0;34m()\u001b[0m\n\u001b[1;32m      1\u001b[0m \u001b[0mspark_settings\u001b[0m \u001b[0;34m=\u001b[0m \u001b[0;34m{\u001b[0m\u001b[0;34m}\u001b[0m\u001b[0;34m\u001b[0m\u001b[0;34m\u001b[0m\u001b[0m\n\u001b[0;32m----> 2\u001b[0;31m \u001b[0mspark_instance\u001b[0m \u001b[0;34m=\u001b[0m \u001b[0mmake_spark\u001b[0m\u001b[0;34m(\u001b[0m\u001b[0;34m)\u001b[0m\u001b[0;34m\u001b[0m\u001b[0;34m\u001b[0m\u001b[0m\n\u001b[0m",
            "\u001b[0;31mNameError\u001b[0m: name 'make_spark' is not defined"
          ]
        }
      ],
      "source": [
        "spark_settings = {}\n",
        "spark_instance = make_spark()"
      ]
    },
    {
      "cell_type": "markdown",
      "metadata": {
        "id": "FeNSBK7WN744"
      },
      "source": [
        "**Load and parse data**"
      ]
    },
    {
      "cell_type": "code",
      "execution_count": null,
      "metadata": {
        "id": "Wg4AJxZRN744"
      },
      "outputs": [],
      "source": [
        "# Load and parse data\n",
        "data_for_spark = parse_data()"
      ]
    },
    {
      "cell_type": "markdown",
      "metadata": {
        "id": "z7RmOlOp7Ujp"
      },
      "source": [
        "**Perform clustering**"
      ]
    },
    {
      "cell_type": "code",
      "execution_count": null,
      "metadata": {
        "id": "nqUifQ0kN745"
      },
      "outputs": [],
      "source": [
        "# Run clustering and parameter tuning\n",
        "clustering_settings = {\n",
        "    'clustering_algorithm':'kmodes',\n",
        "}\n",
        "clustering_centroid_outcomes = run_clustering(\n",
        "    spark_instance=spark_instance,\n",
        "    data_for_spark, clustering_settings)"
      ]
    },
    {
      "cell_type": "code",
      "execution_count": null,
      "metadata": {
        "id": "06CxnhSWN745"
      },
      "outputs": [],
      "source": [
        "# Evaluate clustering results\n",
        "clustering_evaluation = evaluate_clustering(clustering_centroid_outcomes)"
      ]
    },
    {
      "cell_type": "markdown",
      "metadata": {
        "id": "WrrnSkhZ7YhR"
      },
      "source": [
        "**Display results**"
      ]
    },
    {
      "cell_type": "code",
      "execution_count": null,
      "metadata": {
        "id": "LWgrghsBN746"
      },
      "outputs": [],
      "source": [
        "# Display results (maybe only best result)\n",
        "clustering_result = display_results(clustering_evaluation"
      ]
    }
  ],
  "metadata": {
    "colab": {
      "provenance": [],
      "include_colab_link": true
    },
    "kernelspec": {
      "display_name": "Python 3",
      "language": "python",
      "name": "python3"
    },
    "language_info": {
      "codemirror_mode": {
        "name": "ipython",
        "version": 3
      },
      "file_extension": ".py",
      "mimetype": "text/x-python",
      "name": "python",
      "nbconvert_exporter": "python",
      "pygments_lexer": "ipython3",
      "version": "3.9.1"
    }
  },
  "nbformat": 4,
  "nbformat_minor": 0
}