{
 "cells": [
  {
   "attachments": {},
   "cell_type": "markdown",
   "metadata": {
    "colab_type": "text",
    "id": "view-in-github"
   },
   "source": [
    "<a href=\"https://colab.research.google.com/github/FedorTaggenbrock/data_intensive_systems/blob/main/main_tests_notebook.ipynb\" target=\"_parent\"><img src=\"https://colab.research.google.com/assets/colab-badge.svg\" alt=\"Open In Colab\"/></a>"
   ]
  },
  {
   "attachments": {},
   "cell_type": "markdown",
   "metadata": {
    "id": "5aPsU73HSlLI"
   },
   "source": [
    "**Handle importing/installing, both local and on Colab** "
   ]
  },
  {
   "cell_type": "code",
   "execution_count": 5,
   "metadata": {
    "colab": {
     "base_uri": "https://localhost:8080/"
    },
    "id": "INJqht4-StzH",
    "outputId": "f4b73af0-7103-48cd-ccaa-a0c84fafe637"
   },
   "outputs": [],
   "source": [
    "import sys\n",
    "ON_COLAB = 'google.colab' in sys.modules\n",
    "if ON_COLAB:\n",
    "    # Do stuff that only needs to happen on colab\n",
    "    !pip install pyspark  # noqa\n",
    "    pass\n",
    "else:\n",
    "    # Do stuff that only needs to happen on local computer\n",
    "    pass"
   ]
  },
  {
   "attachments": {},
   "cell_type": "markdown",
   "metadata": {
    "collapsed": false,
    "id": "b6jttgVIJsPe"
   },
   "source": [
    "Rerun the code cell below to use the latest version of the python files!"
   ]
  },
  {
   "cell_type": "code",
   "execution_count": 6,
   "metadata": {
    "colab": {
     "base_uri": "https://localhost:8080/"
    },
    "id": "M_cMlVTtz4Ad",
    "outputId": "a1df6f33-112a-45a0-cf4f-2e8f6588ac2b"
   },
   "outputs": [
    {
     "name": "stdout",
     "output_type": "stream",
     "text": [
      "Running locally, importing from local.\n"
     ]
    }
   ],
   "source": [
    "import importlib\n",
    "\n",
    "def import_modules():\n",
    "    if ON_COLAB:\n",
    "        print(\"Running in Colab: importing from GitHub.\")\n",
    "        # Clone the repository\n",
    "        !git clone https://github.com/FedorTaggenbrock/data_intensive_systems.git\n",
    "\n",
    "        # Change the current working directory to the cloned repository directory\n",
    "        %cd /content/data_intensive_systems\n",
    "\n",
    "        # Pull the latest changes from the repository\n",
    "        !git pull origin main\n",
    "\n",
    "        # Change back to the original working directory\n",
    "        %cd /content\n",
    "\n",
    "        # Add the path of the modules to sys.path\n",
    "        sys.path.insert(0, \"/content/data_intensive_systems/src\")\n",
    "    else:\n",
    "        print(\"Running locally, importing from local.\")\n",
    "        # Append parent folder to path\n",
    "        sys.path.append('../src')\n",
    "\n",
    "    # Import and reload modules iteratively\n",
    "    module_names = ['clustering', 'evaluate_clustering', 'generate_data',\n",
    "                    'parse_data', 'main_tests']\n",
    "    for module_name in module_names:\n",
    "        module = importlib.import_module(module_name)\n",
    "        importlib.reload(module)\n",
    "        globals()[module_name] = module\n",
    "\n",
    "import_modules()\n"
   ]
  },
  {
   "cell_type": "code",
   "execution_count": 8,
   "metadata": {
    "colab": {
     "base_uri": "https://localhost:8080/"
    },
    "id": "WEkh8sL6N742",
    "outputId": "b6c376eb-e947-465a-9d1b-4c68f1184e23"
   },
   "outputs": [
    {
     "ename": "Py4JJavaError",
     "evalue": "An error occurred while calling None.org.apache.spark.api.java.JavaSparkContext.\n: java.net.BindException: Cannot assign requested address: bind: Service 'sparkDriver' failed after 16 retries (on a random free port)! Consider explicitly setting the appropriate binding address for the service 'sparkDriver' (for example spark.driver.bindAddress for SparkDriver) to the correct binding address.\r\n\tat sun.nio.ch.Net.bind0(Native Method)\r\n\tat sun.nio.ch.Net.bind(Net.java:438)\r\n\tat sun.nio.ch.Net.bind(Net.java:430)\r\n\tat sun.nio.ch.ServerSocketChannelImpl.bind(ServerSocketChannelImpl.java:225)\r\n\tat io.netty.channel.socket.nio.NioServerSocketChannel.doBind(NioServerSocketChannel.java:141)\r\n\tat io.netty.channel.AbstractChannel$AbstractUnsafe.bind(AbstractChannel.java:562)\r\n\tat io.netty.channel.DefaultChannelPipeline$HeadContext.bind(DefaultChannelPipeline.java:1334)\r\n\tat io.netty.channel.AbstractChannelHandlerContext.invokeBind(AbstractChannelHandlerContext.java:600)\r\n\tat io.netty.channel.AbstractChannelHandlerContext.bind(AbstractChannelHandlerContext.java:579)\r\n\tat io.netty.channel.DefaultChannelPipeline.bind(DefaultChannelPipeline.java:973)\r\n\tat io.netty.channel.AbstractChannel.bind(AbstractChannel.java:260)\r\n\tat io.netty.bootstrap.AbstractBootstrap$2.run(AbstractBootstrap.java:356)\r\n\tat io.netty.util.concurrent.AbstractEventExecutor.runTask(AbstractEventExecutor.java:174)\r\n\tat io.netty.util.concurrent.AbstractEventExecutor.safeExecute(AbstractEventExecutor.java:167)\r\n\tat io.netty.util.concurrent.SingleThreadEventExecutor.runAllTasks(SingleThreadEventExecutor.java:470)\r\n\tat io.netty.channel.nio.NioEventLoop.run(NioEventLoop.java:569)\r\n\tat io.netty.util.concurrent.SingleThreadEventExecutor$4.run(SingleThreadEventExecutor.java:997)\r\n\tat io.netty.util.internal.ThreadExecutorMap$2.run(ThreadExecutorMap.java:74)\r\n\tat io.netty.util.concurrent.FastThreadLocalRunnable.run(FastThreadLocalRunnable.java:30)\r\n\tat java.lang.Thread.run(Thread.java:750)\r\n",
     "output_type": "error",
     "traceback": [
      "\u001B[1;31m---------------------------------------------------------------------------\u001B[0m",
      "\u001B[1;31mPy4JJavaError\u001B[0m                             Traceback (most recent call last)",
      "Cell \u001B[1;32mIn[8], line 1\u001B[0m\n\u001B[1;32m----> 1\u001B[0m main_tests\u001B[39m.\u001B[39;49mrun_all_tests()\n",
      "File \u001B[1;32mc:\\Users\\T460\\Documents\\Uni_spul\\Jaar_6\\DIS\\Project\\data_intensive_systems\\src\\main_tests.py:30\u001B[0m, in \u001B[0;36mrun_all_tests\u001B[1;34m()\u001B[0m\n\u001B[0;32m     21\u001B[0m clustering_settings \u001B[39m=\u001B[39m {\n\u001B[0;32m     22\u001B[0m     \u001B[39m'\u001B[39m\u001B[39mclustering_algorithm\u001B[39m\u001B[39m'\u001B[39m: \u001B[39m'\u001B[39m\u001B[39mkmodes\u001B[39m\u001B[39m'\u001B[39m,\n\u001B[0;32m     23\u001B[0m     \u001B[39m'\u001B[39m\u001B[39mk_values\u001B[39m\u001B[39m'\u001B[39m: [\u001B[39m2\u001B[39m, \u001B[39m3\u001B[39m],\n\u001B[1;32m   (...)\u001B[0m\n\u001B[0;32m     26\u001B[0m     \u001B[39m'\u001B[39m\u001B[39mdebug_flag\u001B[39m\u001B[39m'\u001B[39m: \u001B[39mTrue\u001B[39;00m,\n\u001B[0;32m     27\u001B[0m }\n\u001B[0;32m     29\u001B[0m \u001B[39m#main function which runs all other tests imported from different files\u001B[39;00m\n\u001B[1;32m---> 30\u001B[0m spark \u001B[39m=\u001B[39m SparkSession\u001B[39m.\u001B[39;49mbuilder\u001B[39m.\u001B[39;49mappName(\u001B[39m\"\u001B[39;49m\u001B[39mClustering\u001B[39;49m\u001B[39m\"\u001B[39;49m)\u001B[39m.\u001B[39;49mgetOrCreate()\n\u001B[0;32m     31\u001B[0m \u001B[39mprint\u001B[39m(\u001B[39m\"\u001B[39m\u001B[39mInitialized Spark.\u001B[39m\u001B[39m\"\u001B[39m)\n\u001B[0;32m     33\u001B[0m \u001B[39m#Opletten dat bij het parsen de hoeveelheden van stad A-> stad B wel goed samengevoegd worden. Zie nu twee keer dezelfde from->to staan bij route 1 namelijk.\u001B[39;00m\n",
      "File \u001B[1;32mc:\\Python\\lib\\site-packages\\pyspark\\sql\\session.py:477\u001B[0m, in \u001B[0;36mSparkSession.Builder.getOrCreate\u001B[1;34m(self)\u001B[0m\n\u001B[0;32m    475\u001B[0m     sparkConf\u001B[39m.\u001B[39mset(key, value)\n\u001B[0;32m    476\u001B[0m \u001B[39m# This SparkContext may be an existing one.\u001B[39;00m\n\u001B[1;32m--> 477\u001B[0m sc \u001B[39m=\u001B[39m SparkContext\u001B[39m.\u001B[39;49mgetOrCreate(sparkConf)\n\u001B[0;32m    478\u001B[0m \u001B[39m# Do not update `SparkConf` for existing `SparkContext`, as it's shared\u001B[39;00m\n\u001B[0;32m    479\u001B[0m \u001B[39m# by all sessions.\u001B[39;00m\n\u001B[0;32m    480\u001B[0m session \u001B[39m=\u001B[39m SparkSession(sc, options\u001B[39m=\u001B[39m\u001B[39mself\u001B[39m\u001B[39m.\u001B[39m_options)\n",
      "File \u001B[1;32mc:\\Python\\lib\\site-packages\\pyspark\\context.py:512\u001B[0m, in \u001B[0;36mSparkContext.getOrCreate\u001B[1;34m(cls, conf)\u001B[0m\n\u001B[0;32m    510\u001B[0m \u001B[39mwith\u001B[39;00m SparkContext\u001B[39m.\u001B[39m_lock:\n\u001B[0;32m    511\u001B[0m     \u001B[39mif\u001B[39;00m SparkContext\u001B[39m.\u001B[39m_active_spark_context \u001B[39mis\u001B[39;00m \u001B[39mNone\u001B[39;00m:\n\u001B[1;32m--> 512\u001B[0m         SparkContext(conf\u001B[39m=\u001B[39;49mconf \u001B[39mor\u001B[39;49;00m SparkConf())\n\u001B[0;32m    513\u001B[0m     \u001B[39massert\u001B[39;00m SparkContext\u001B[39m.\u001B[39m_active_spark_context \u001B[39mis\u001B[39;00m \u001B[39mnot\u001B[39;00m \u001B[39mNone\u001B[39;00m\n\u001B[0;32m    514\u001B[0m     \u001B[39mreturn\u001B[39;00m SparkContext\u001B[39m.\u001B[39m_active_spark_context\n",
      "File \u001B[1;32mc:\\Python\\lib\\site-packages\\pyspark\\context.py:200\u001B[0m, in \u001B[0;36mSparkContext.__init__\u001B[1;34m(self, master, appName, sparkHome, pyFiles, environment, batchSize, serializer, conf, gateway, jsc, profiler_cls, udf_profiler_cls, memory_profiler_cls)\u001B[0m\n\u001B[0;32m    198\u001B[0m SparkContext\u001B[39m.\u001B[39m_ensure_initialized(\u001B[39mself\u001B[39m, gateway\u001B[39m=\u001B[39mgateway, conf\u001B[39m=\u001B[39mconf)\n\u001B[0;32m    199\u001B[0m \u001B[39mtry\u001B[39;00m:\n\u001B[1;32m--> 200\u001B[0m     \u001B[39mself\u001B[39;49m\u001B[39m.\u001B[39;49m_do_init(\n\u001B[0;32m    201\u001B[0m         master,\n\u001B[0;32m    202\u001B[0m         appName,\n\u001B[0;32m    203\u001B[0m         sparkHome,\n\u001B[0;32m    204\u001B[0m         pyFiles,\n\u001B[0;32m    205\u001B[0m         environment,\n\u001B[0;32m    206\u001B[0m         batchSize,\n\u001B[0;32m    207\u001B[0m         serializer,\n\u001B[0;32m    208\u001B[0m         conf,\n\u001B[0;32m    209\u001B[0m         jsc,\n\u001B[0;32m    210\u001B[0m         profiler_cls,\n\u001B[0;32m    211\u001B[0m         udf_profiler_cls,\n\u001B[0;32m    212\u001B[0m         memory_profiler_cls,\n\u001B[0;32m    213\u001B[0m     )\n\u001B[0;32m    214\u001B[0m \u001B[39mexcept\u001B[39;00m \u001B[39mBaseException\u001B[39;00m:\n\u001B[0;32m    215\u001B[0m     \u001B[39m# If an error occurs, clean up in order to allow future SparkContext creation:\u001B[39;00m\n\u001B[0;32m    216\u001B[0m     \u001B[39mself\u001B[39m\u001B[39m.\u001B[39mstop()\n",
      "File \u001B[1;32mc:\\Python\\lib\\site-packages\\pyspark\\context.py:287\u001B[0m, in \u001B[0;36mSparkContext._do_init\u001B[1;34m(self, master, appName, sparkHome, pyFiles, environment, batchSize, serializer, conf, jsc, profiler_cls, udf_profiler_cls, memory_profiler_cls)\u001B[0m\n\u001B[0;32m    284\u001B[0m \u001B[39mself\u001B[39m\u001B[39m.\u001B[39menvironment[\u001B[39m\"\u001B[39m\u001B[39mPYTHONHASHSEED\u001B[39m\u001B[39m\"\u001B[39m] \u001B[39m=\u001B[39m os\u001B[39m.\u001B[39menviron\u001B[39m.\u001B[39mget(\u001B[39m\"\u001B[39m\u001B[39mPYTHONHASHSEED\u001B[39m\u001B[39m\"\u001B[39m, \u001B[39m\"\u001B[39m\u001B[39m0\u001B[39m\u001B[39m\"\u001B[39m)\n\u001B[0;32m    286\u001B[0m \u001B[39m# Create the Java SparkContext through Py4J\u001B[39;00m\n\u001B[1;32m--> 287\u001B[0m \u001B[39mself\u001B[39m\u001B[39m.\u001B[39m_jsc \u001B[39m=\u001B[39m jsc \u001B[39mor\u001B[39;00m \u001B[39mself\u001B[39;49m\u001B[39m.\u001B[39;49m_initialize_context(\u001B[39mself\u001B[39;49m\u001B[39m.\u001B[39;49m_conf\u001B[39m.\u001B[39;49m_jconf)\n\u001B[0;32m    288\u001B[0m \u001B[39m# Reset the SparkConf to the one actually used by the SparkContext in JVM.\u001B[39;00m\n\u001B[0;32m    289\u001B[0m \u001B[39mself\u001B[39m\u001B[39m.\u001B[39m_conf \u001B[39m=\u001B[39m SparkConf(_jconf\u001B[39m=\u001B[39m\u001B[39mself\u001B[39m\u001B[39m.\u001B[39m_jsc\u001B[39m.\u001B[39msc()\u001B[39m.\u001B[39mconf())\n",
      "File \u001B[1;32mc:\\Python\\lib\\site-packages\\pyspark\\context.py:417\u001B[0m, in \u001B[0;36mSparkContext._initialize_context\u001B[1;34m(self, jconf)\u001B[0m\n\u001B[0;32m    413\u001B[0m \u001B[39m\"\"\"\u001B[39;00m\n\u001B[0;32m    414\u001B[0m \u001B[39mInitialize SparkContext in function to allow subclass specific initialization\u001B[39;00m\n\u001B[0;32m    415\u001B[0m \u001B[39m\"\"\"\u001B[39;00m\n\u001B[0;32m    416\u001B[0m \u001B[39massert\u001B[39;00m \u001B[39mself\u001B[39m\u001B[39m.\u001B[39m_jvm \u001B[39mis\u001B[39;00m \u001B[39mnot\u001B[39;00m \u001B[39mNone\u001B[39;00m\n\u001B[1;32m--> 417\u001B[0m \u001B[39mreturn\u001B[39;00m \u001B[39mself\u001B[39;49m\u001B[39m.\u001B[39;49m_jvm\u001B[39m.\u001B[39;49mJavaSparkContext(jconf)\n",
      "File \u001B[1;32mc:\\Python\\lib\\site-packages\\py4j\\java_gateway.py:1587\u001B[0m, in \u001B[0;36mJavaClass.__call__\u001B[1;34m(self, *args)\u001B[0m\n\u001B[0;32m   1581\u001B[0m command \u001B[39m=\u001B[39m proto\u001B[39m.\u001B[39mCONSTRUCTOR_COMMAND_NAME \u001B[39m+\u001B[39m\\\n\u001B[0;32m   1582\u001B[0m     \u001B[39mself\u001B[39m\u001B[39m.\u001B[39m_command_header \u001B[39m+\u001B[39m\\\n\u001B[0;32m   1583\u001B[0m     args_command \u001B[39m+\u001B[39m\\\n\u001B[0;32m   1584\u001B[0m     proto\u001B[39m.\u001B[39mEND_COMMAND_PART\n\u001B[0;32m   1586\u001B[0m answer \u001B[39m=\u001B[39m \u001B[39mself\u001B[39m\u001B[39m.\u001B[39m_gateway_client\u001B[39m.\u001B[39msend_command(command)\n\u001B[1;32m-> 1587\u001B[0m return_value \u001B[39m=\u001B[39m get_return_value(\n\u001B[0;32m   1588\u001B[0m     answer, \u001B[39mself\u001B[39;49m\u001B[39m.\u001B[39;49m_gateway_client, \u001B[39mNone\u001B[39;49;00m, \u001B[39mself\u001B[39;49m\u001B[39m.\u001B[39;49m_fqn)\n\u001B[0;32m   1590\u001B[0m \u001B[39mfor\u001B[39;00m temp_arg \u001B[39min\u001B[39;00m temp_args:\n\u001B[0;32m   1591\u001B[0m     \u001B[39mif\u001B[39;00m \u001B[39mhasattr\u001B[39m(temp_arg, \u001B[39m\"\u001B[39m\u001B[39m_detach\u001B[39m\u001B[39m\"\u001B[39m):\n",
      "File \u001B[1;32mc:\\Python\\lib\\site-packages\\pyspark\\errors\\exceptions\\captured.py:169\u001B[0m, in \u001B[0;36mcapture_sql_exception.<locals>.deco\u001B[1;34m(*a, **kw)\u001B[0m\n\u001B[0;32m    167\u001B[0m \u001B[39mdef\u001B[39;00m \u001B[39mdeco\u001B[39m(\u001B[39m*\u001B[39ma: Any, \u001B[39m*\u001B[39m\u001B[39m*\u001B[39mkw: Any) \u001B[39m-\u001B[39m\u001B[39m>\u001B[39m Any:\n\u001B[0;32m    168\u001B[0m     \u001B[39mtry\u001B[39;00m:\n\u001B[1;32m--> 169\u001B[0m         \u001B[39mreturn\u001B[39;00m f(\u001B[39m*\u001B[39ma, \u001B[39m*\u001B[39m\u001B[39m*\u001B[39mkw)\n\u001B[0;32m    170\u001B[0m     \u001B[39mexcept\u001B[39;00m Py4JJavaError \u001B[39mas\u001B[39;00m e:\n\u001B[0;32m    171\u001B[0m         converted \u001B[39m=\u001B[39m convert_exception(e\u001B[39m.\u001B[39mjava_exception)\n",
      "File \u001B[1;32mc:\\Python\\lib\\site-packages\\py4j\\protocol.py:326\u001B[0m, in \u001B[0;36mget_return_value\u001B[1;34m(answer, gateway_client, target_id, name)\u001B[0m\n\u001B[0;32m    324\u001B[0m value \u001B[39m=\u001B[39m OUTPUT_CONVERTER[\u001B[39mtype\u001B[39m](answer[\u001B[39m2\u001B[39m:], gateway_client)\n\u001B[0;32m    325\u001B[0m \u001B[39mif\u001B[39;00m answer[\u001B[39m1\u001B[39m] \u001B[39m==\u001B[39m REFERENCE_TYPE:\n\u001B[1;32m--> 326\u001B[0m     \u001B[39mraise\u001B[39;00m Py4JJavaError(\n\u001B[0;32m    327\u001B[0m         \u001B[39m\"\u001B[39m\u001B[39mAn error occurred while calling \u001B[39m\u001B[39m{0}\u001B[39;00m\u001B[39m{1}\u001B[39;00m\u001B[39m{2}\u001B[39;00m\u001B[39m.\u001B[39m\u001B[39m\\n\u001B[39;00m\u001B[39m\"\u001B[39m\u001B[39m.\u001B[39m\n\u001B[0;32m    328\u001B[0m         \u001B[39mformat\u001B[39m(target_id, \u001B[39m\"\u001B[39m\u001B[39m.\u001B[39m\u001B[39m\"\u001B[39m, name), value)\n\u001B[0;32m    329\u001B[0m \u001B[39melse\u001B[39;00m:\n\u001B[0;32m    330\u001B[0m     \u001B[39mraise\u001B[39;00m Py4JError(\n\u001B[0;32m    331\u001B[0m         \u001B[39m\"\u001B[39m\u001B[39mAn error occurred while calling \u001B[39m\u001B[39m{0}\u001B[39;00m\u001B[39m{1}\u001B[39;00m\u001B[39m{2}\u001B[39;00m\u001B[39m. Trace:\u001B[39m\u001B[39m\\n\u001B[39;00m\u001B[39m{3}\u001B[39;00m\u001B[39m\\n\u001B[39;00m\u001B[39m\"\u001B[39m\u001B[39m.\u001B[39m\n\u001B[0;32m    332\u001B[0m         \u001B[39mformat\u001B[39m(target_id, \u001B[39m\"\u001B[39m\u001B[39m.\u001B[39m\u001B[39m\"\u001B[39m, name, value))\n",
      "\u001B[1;31mPy4JJavaError\u001B[0m: An error occurred while calling None.org.apache.spark.api.java.JavaSparkContext.\n: java.net.BindException: Cannot assign requested address: bind: Service 'sparkDriver' failed after 16 retries (on a random free port)! Consider explicitly setting the appropriate binding address for the service 'sparkDriver' (for example spark.driver.bindAddress for SparkDriver) to the correct binding address.\r\n\tat sun.nio.ch.Net.bind0(Native Method)\r\n\tat sun.nio.ch.Net.bind(Net.java:438)\r\n\tat sun.nio.ch.Net.bind(Net.java:430)\r\n\tat sun.nio.ch.ServerSocketChannelImpl.bind(ServerSocketChannelImpl.java:225)\r\n\tat io.netty.channel.socket.nio.NioServerSocketChannel.doBind(NioServerSocketChannel.java:141)\r\n\tat io.netty.channel.AbstractChannel$AbstractUnsafe.bind(AbstractChannel.java:562)\r\n\tat io.netty.channel.DefaultChannelPipeline$HeadContext.bind(DefaultChannelPipeline.java:1334)\r\n\tat io.netty.channel.AbstractChannelHandlerContext.invokeBind(AbstractChannelHandlerContext.java:600)\r\n\tat io.netty.channel.AbstractChannelHandlerContext.bind(AbstractChannelHandlerContext.java:579)\r\n\tat io.netty.channel.DefaultChannelPipeline.bind(DefaultChannelPipeline.java:973)\r\n\tat io.netty.channel.AbstractChannel.bind(AbstractChannel.java:260)\r\n\tat io.netty.bootstrap.AbstractBootstrap$2.run(AbstractBootstrap.java:356)\r\n\tat io.netty.util.concurrent.AbstractEventExecutor.runTask(AbstractEventExecutor.java:174)\r\n\tat io.netty.util.concurrent.AbstractEventExecutor.safeExecute(AbstractEventExecutor.java:167)\r\n\tat io.netty.util.concurrent.SingleThreadEventExecutor.runAllTasks(SingleThreadEventExecutor.java:470)\r\n\tat io.netty.channel.nio.NioEventLoop.run(NioEventLoop.java:569)\r\n\tat io.netty.util.concurrent.SingleThreadEventExecutor$4.run(SingleThreadEventExecutor.java:997)\r\n\tat io.netty.util.internal.ThreadExecutorMap$2.run(ThreadExecutorMap.java:74)\r\n\tat io.netty.util.concurrent.FastThreadLocalRunnable.run(FastThreadLocalRunnable.java:30)\r\n\tat java.lang.Thread.run(Thread.java:750)\r\n"
     ]
    }
   ],
   "source": [
    "main_tests.run_all_tests()"
   ]
  },
  {
   "attachments": {},
   "cell_type": "markdown",
   "metadata": {
    "collapsed": false,
    "id": "FMg9vvjcJsPg"
   },
   "source": [
    "Test all functions you want inside the run_all_tests() during development, for small sample sizes.\n"
   ]
  },
  {
   "attachments": {},
   "cell_type": "markdown",
   "metadata": {
    "collapsed": false,
    "id": "BRrS6t9JJsPg"
   },
   "source": [
    "Code below is for actual result generation later, so that we can easily reuse intermediate values."
   ]
  },
  {
   "attachments": {},
   "cell_type": "markdown",
   "metadata": {
    "id": "qoGwAnHNN743"
   },
   "source": [
    "**Create a spark instance**"
   ]
  },
  {
   "cell_type": "code",
   "execution_count": 5,
   "metadata": {
    "colab": {
     "base_uri": "https://localhost:8080/",
     "height": 183
    },
    "id": "MN8NRmi1N743",
    "outputId": "806faa7d-0417-4077-bf75-2d5979a24d2e"
   },
   "outputs": [
    {
     "ename": "NameError",
     "evalue": "ignored",
     "output_type": "error",
     "traceback": [
      "\u001B[0;31m---------------------------------------------------------------------------\u001B[0m",
      "\u001B[0;31mNameError\u001B[0m                                 Traceback (most recent call last)",
      "\u001B[0;32m<ipython-input-5-e48a53e48df8>\u001B[0m in \u001B[0;36m<cell line: 2>\u001B[0;34m()\u001B[0m\n\u001B[1;32m      1\u001B[0m \u001B[0mspark_settings\u001B[0m \u001B[0;34m=\u001B[0m \u001B[0;34m{\u001B[0m\u001B[0;34m}\u001B[0m\u001B[0;34m\u001B[0m\u001B[0;34m\u001B[0m\u001B[0m\n\u001B[0;32m----> 2\u001B[0;31m \u001B[0mspark_instance\u001B[0m \u001B[0;34m=\u001B[0m \u001B[0mmake_spark\u001B[0m\u001B[0;34m(\u001B[0m\u001B[0;34m)\u001B[0m\u001B[0;34m\u001B[0m\u001B[0;34m\u001B[0m\u001B[0m\n\u001B[0m",
      "\u001B[0;31mNameError\u001B[0m: name 'make_spark' is not defined"
     ]
    }
   ],
   "source": [
    "spark_settings = {}\n",
    "spark_instance = make_spark()"
   ]
  },
  {
   "attachments": {},
   "cell_type": "markdown",
   "metadata": {
    "id": "FeNSBK7WN744"
   },
   "source": [
    "**Load and parse data**"
   ]
  },
  {
   "cell_type": "code",
   "execution_count": null,
   "metadata": {
    "id": "Wg4AJxZRN744"
   },
   "outputs": [],
   "source": [
    "# Load and parse data\n",
    "data_for_spark = parse_data()"
   ]
  },
  {
   "attachments": {},
   "cell_type": "markdown",
   "metadata": {
    "id": "z7RmOlOp7Ujp"
   },
   "source": [
    "**Perform clustering**"
   ]
  },
  {
   "cell_type": "code",
   "execution_count": null,
   "metadata": {
    "id": "nqUifQ0kN745"
   },
   "outputs": [],
   "source": [
    "# Run clustering and parameter tuning\n",
    "clustering_settings = {\n",
    "    'clustering_algorithm':'kmodes',\n",
    "}\n",
    "clustering_centroid_outcomes = run_clustering(\n",
    "    spark_instance=spark_instance,\n",
    "    data_for_spark, clustering_settings)"
   ]
  },
  {
   "cell_type": "code",
   "execution_count": null,
   "metadata": {
    "id": "06CxnhSWN745"
   },
   "outputs": [],
   "source": [
    "# Evaluate clustering results\n",
    "clustering_evaluation = evaluate_clustering(clustering_centroid_outcomes)"
   ]
  },
  {
   "attachments": {},
   "cell_type": "markdown",
   "metadata": {
    "id": "WrrnSkhZ7YhR"
   },
   "source": [
    "**Display results**"
   ]
  },
  {
   "cell_type": "code",
   "execution_count": null,
   "metadata": {
    "id": "LWgrghsBN746"
   },
   "outputs": [],
   "source": [
    "# Display results (maybe only best result)\n",
    "clustering_result = display_results(clustering_evaluation"
   ]
  }
 ],
 "metadata": {
  "colab": {
   "include_colab_link": true,
   "provenance": []
  },
  "kernelspec": {
   "display_name": "Python 3",
   "language": "python",
   "name": "python3"
  },
  "language_info": {
   "codemirror_mode": {
    "name": "ipython",
    "version": 3
   },
   "file_extension": ".py",
   "mimetype": "text/x-python",
   "name": "python",
   "nbconvert_exporter": "python",
   "pygments_lexer": "ipython3",
   "version": "3.9.1"
  }
 },
 "nbformat": 4,
 "nbformat_minor": 0
}
