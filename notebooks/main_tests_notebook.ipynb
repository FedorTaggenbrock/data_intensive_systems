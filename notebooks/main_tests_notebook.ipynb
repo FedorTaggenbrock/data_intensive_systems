{
  "cells": [
    {
      "attachments": {},
      "cell_type": "markdown",
      "metadata": {
        "colab_type": "text",
        "id": "view-in-github"
      },
      "source": [
        "<a href=\"https://colab.research.google.com/github/FedorTaggenbrock/data_intensive_systems/blob/main/notebooks/main_tests_notebook.ipynb\" target=\"_parent\"><img src=\"https://colab.research.google.com/assets/colab-badge.svg\" alt=\"Open In Colab\"/></a>"
      ]
    },
    {
      "cell_type": "code",
      "execution_count": null,
      "metadata": {
        "colab": {
          "base_uri": "https://localhost:8080/"
        },
        "id": "d1m1UZvaN74z",
        "outputId": "6e57c1d0-fd72-4b3c-d553-709ee7298279"
      },
      "outputs": [
        {
          "name": "stdout",
          "output_type": "stream",
          "text": [
            "python3: can't open file '/content/../main_tests.py': [Errno 2] No such file or directory\n"
          ]
        }
      ],
      "source": [
        "# !python ../main_tests.py"
      ]
    },
    {
      "cell_type": "code",
      "execution_count": null,
      "metadata": {
        "id": "dcdvOolnPS8O"
      },
      "outputs": [],
      "source": [
        "# if ON_COLAB:\n",
        "#     print(\"Running in Colab: importing from GitHub.\")\n",
        "#     # wget (\"curl\") all files from github\n",
        "#     user = 'FedorTaggenbrock'\n",
        "#     repo = 'data_intensive_systems'\n",
        "#     src_dir = \"src\"\n",
        "#     pyfiles = [\"clustering.py\"]\n",
        "\n",
        "#     for pyfile in pyfiles:\n",
        "#         url = f\"https://raw.githubusercontent.com/{user}/{repo}/main/{src_dir}/{pyfile}\"\n",
        "#         !wget --no-cache --backups=1 {url}\n",
        "\n",
        "#     # Import all files\n",
        "#     try:\n",
        "#         import clustering as clustering\n",
        "#     except Exception as e:\n",
        "#         print('Error importing files on colab. Are the names right?.')\n",
        "\n",
        "# else:\n",
        "#     print(\"Running locally, importing from local.\")\n",
        "#     # Append parent folder to path\n",
        "#     sys.path.append('..')\n",
        "#     # And import all files\n",
        "#     from src import clustering as clustering\n"
      ]
    },
    {
      "cell_type": "code",
      "execution_count": null,
      "metadata": {
        "colab": {
          "base_uri": "https://localhost:8080/"
        },
        "id": "esFX-UWVv6QV",
        "outputId": "b0424979-db9d-4400-ffbe-e8ffe0aa3c05"
      },
      "outputs": [
        {
          "name": "stdout",
          "output_type": "stream",
          "text": [
            "delete /content/main_tests.py\n",
            "0.25\n",
            "update 14:40\n",
            "Initialized Spark. Start clustering.\n",
            "centroids =  [(1, 1, 1, 1, 0), (0, 0, 1, 0, 1)]\n",
            "centroids =  [(1, 1, 0, 1, 0), (0, 0, 1, 0, 1)]\n",
            "Finished clustering. Start evaluation.\n",
            "done\n"
          ]
        }
      ],
      "source": [
        "# import os\n",
        "# import requests\n",
        "# import sys\n",
        "# import time\n",
        "# import importlib\n",
        "\n",
        "# def get_file_from_github(raw_url, target_file):\n",
        "#     # Add a unique query parameter to the URL to bypass the cache\n",
        "#     raw_url += '?t=' + str(time.time())\n",
        "#     response = requests.get(raw_url)\n",
        "#     response.raise_for_status()  # Ensure we got a valid response\n",
        "#     with open(target_file, 'wb') as out_file:\n",
        "#         out_file.write(response.content)\n",
        "\n",
        "# def import_from_github(raw_urls, module_names):\n",
        "#     # Set your target path here\n",
        "#     # In Google Colab, you can use the current directory\n",
        "#     target_path = os.getcwd()\n",
        "\n",
        "#     modules = []\n",
        "#     # Download files\n",
        "#     for raw_url, module_name in zip(raw_urls, module_names):\n",
        "#         target_file = f\"{target_path}/{module_name}.py\"\n",
        "\n",
        "#         # If the module file exists, delete it first\n",
        "#         if os.path.exists(target_file):\n",
        "#             print(f'delete {target_file}')\n",
        "#             os.remove(target_file)\n",
        "\n",
        "#         get_file_from_github(raw_url, target_file)\n",
        "\n",
        "#         # If the module has been imported before, reload it\n",
        "#         if module_name in sys.modules:\n",
        "#             modules.append(importlib.reload(sys.modules[module_name]))\n",
        "#         else:\n",
        "#             # Add the directory to sys.path\n",
        "#             sys.path.insert(0, target_path)\n",
        "#             # Import your module\n",
        "#             modules.append(__import__(module_name))\n",
        "\n",
        "#     return modules\n",
        "\n",
        "\n",
        "# user = 'FedorTaggenbrock'\n",
        "# repo = 'data_intensive_systems'\n",
        "# src_dir = \"src\"\n",
        "# module_names = [\"clustering\", 'main_tests']\n",
        "# raw_urls = [f\"https://raw.githubusercontent.com/{user}/{repo}/main/{src_dir}/{modname}.py\" for modname in module_names]\n",
        "\n",
        "# clustering, main_tests = import_from_github(raw_urls, module_names)\n",
        "\n",
        "# # Now you can use your modules\n",
        "# res = clustering.jaccard_distance([1,1,0,1,0], [1,1,1,1,0])\n",
        "# print(res)\n",
        "# clustering.clustering_test1()"
      ]
    },
    {
      "attachments": {},
      "cell_type": "markdown",
      "metadata": {
        "id": "5aPsU73HSlLI"
      },
      "source": [
        "**Handle importing/installing, both local and on Colab** "
      ]
    },
    {
      "cell_type": "code",
      "execution_count": 3,
      "metadata": {
        "colab": {
          "base_uri": "https://localhost:8080/"
        },
        "id": "INJqht4-StzH",
        "outputId": "feabeba9-64df-46f4-bf3b-9d2d0535b9f5"
      },
      "outputs": [],
      "source": [
        "import sys\n",
        "ON_COLAB = 'google.colab' in sys.modules\n",
        "if ON_COLAB:\n",
        "    # Do stuff that only needs to happen on colab\n",
        "    !pip install pyspark  # noqa\n",
        "    pass\n",
        "else:\n",
        "    # Do stuff that only needs to happen on local computer\n",
        "    pass"
      ]
    },
    {
      "cell_type": "code",
      "execution_count": 21,
      "metadata": {
        "colab": {
          "base_uri": "https://localhost:8080/"
        },
        "id": "M_cMlVTtz4Ad",
        "outputId": "6573a31f-96c4-4222-de13-1979bb5c563c"
      },
      "outputs": [
        {
          "name": "stdout",
          "output_type": "stream",
          "text": [
            "Running locally, importing from local.\n"
          ]
        }
      ],
      "source": [
        "import importlib\n",
        "\n",
        "def import_modules():\n",
        "    if ON_COLAB:\n",
        "        print(\"Running in Colab: importing from GitHub.\")\n",
        "        # Clone the repository\n",
        "        !git clone https://github.com/FedorTaggenbrock/data_intensive_systems.git\n",
        "\n",
        "        # Change the current working directory to the cloned repository directory\n",
        "        %cd /content/data_intensive_systems\n",
        "\n",
        "        # Pull the latest changes from the repository\n",
        "        !git pull origin main\n",
        "\n",
        "        # Change back to the original working directory\n",
        "        %cd /content\n",
        "\n",
        "        # Add the path of the modules to sys.path\n",
        "        sys.path.insert(0, \"/content/data_intensive_systems/src\")\n",
        "    else:\n",
        "        print(\"Running locally, importing from local.\")\n",
        "        # Append parent folder to path\n",
        "        sys.path.append('../src')\n",
        "\n",
        "    # Import and reload modules iteratively\n",
        "    module_names = ['clustering', 'evaluate_clustering', 'generate_data',\n",
        "                    'parse_data', 'main_tests']\n",
        "    for module_name in module_names:\n",
        "        module = importlib.import_module(module_name)\n",
        "        importlib.reload(module)\n",
        "        globals()[module_name] = module\n",
        "\n",
        "import_modules()\n"
      ]
    },
    {
      "attachments": {},
      "cell_type": "markdown",
      "metadata": {
        "id": "0wxgQD6vN741"
      },
      "source": [
        "**Test if this works**\n"
      ]
    },
    {
      "cell_type": "code",
      "execution_count": 22,
      "metadata": {
        "colab": {
          "base_uri": "https://localhost:8080/"
        },
        "id": "WEkh8sL6N742",
        "outputId": "0b7357a1-3f7f-440a-f485-59d4c9e4d9f4"
      },
      "outputs": [
        {
          "name": "stdout",
          "output_type": "stream",
          "text": [
            "0.25\n"
          ]
        },
        {
          "name": "stdout",
          "output_type": "stream",
          "text": [
            "Running clustering_test2().\n",
            "Initialized Spark. Start clustering.\n",
            "Pass clustering_test2()!\n",
            "\n",
            "[([[1, 1, 1, 1, 0], [1, 0, 0, 1, 0]], {'k': 2}), ([[1, 1, 1, 1, 0], [1, 0, 0, 1, 0], [0, 0, 1, 0, 1]], {'k': 3})]\n"
          ]
        }
      ],
      "source": [
        "# print(dir(clustering))\n",
        "res = clustering.jaccard_distance([1,1,0,1,0], [1,1,1,1,0])\n",
        "print(res)\n",
        "\n",
        "# result1 = clustering.clustering_test1()\n",
        "# print(result1)\n",
        "\n",
        "result2 = clustering.clustering_test2()\n",
        "print(result2)\n",
        " "
      ]
    },
    {
      "cell_type": "code",
      "execution_count": 23,
      "metadata": {},
      "outputs": [
        {
          "name": "stdout",
          "output_type": "stream",
          "text": [
            "None\n"
          ]
        }
      ],
      "source": [
        "evaluation2 = evaluate_clustering.evaluate_clustering_test2(result2)\n",
        "print(evaluation2)"
      ]
    },
    {
      "attachments": {},
      "cell_type": "markdown",
      "metadata": {
        "id": "qoGwAnHNN743"
      },
      "source": [
        "**Create a spark instance**"
      ]
    },
    {
      "cell_type": "code",
      "execution_count": null,
      "metadata": {
        "id": "MN8NRmi1N743"
      },
      "outputs": [],
      "source": [
        "spark_settings = {}\n",
        "spark_instance = make_spark()"
      ]
    },
    {
      "attachments": {},
      "cell_type": "markdown",
      "metadata": {
        "id": "FeNSBK7WN744"
      },
      "source": [
        "**Load and parse data**"
      ]
    },
    {
      "cell_type": "code",
      "execution_count": null,
      "metadata": {
        "id": "Wg4AJxZRN744"
      },
      "outputs": [],
      "source": [
        "# Load and parse data\n",
        "data_for_spark = parse_data()"
      ]
    },
    {
      "attachments": {},
      "cell_type": "markdown",
      "metadata": {
        "id": "z7RmOlOp7Ujp"
      },
      "source": [
        "**Perform clustering**"
      ]
    },
    {
      "cell_type": "code",
      "execution_count": null,
      "metadata": {
        "id": "nqUifQ0kN745"
      },
      "outputs": [],
      "source": [
        "# Run clustering and parameter tuning\n",
        "clustering_settings = {\n",
        "    'clustering_algorithm':'kmodes',\n",
        "}\n",
        "clustering_centroid_outcomes = run_clustering(\n",
        "    spark_instance=spark_instance,\n",
        "    data_for_spark, clustering_settings)"
      ]
    },
    {
      "cell_type": "code",
      "execution_count": null,
      "metadata": {
        "id": "06CxnhSWN745"
      },
      "outputs": [],
      "source": [
        "# Evaluate clustering results\n",
        "clustering_evaluation = evaluate_clustering(clustering_centroid_outcomes)"
      ]
    },
    {
      "attachments": {},
      "cell_type": "markdown",
      "metadata": {
        "id": "WrrnSkhZ7YhR"
      },
      "source": [
        "**Display results**"
      ]
    },
    {
      "cell_type": "code",
      "execution_count": null,
      "metadata": {
        "id": "LWgrghsBN746"
      },
      "outputs": [],
      "source": [
        "# Display results (maybe only best result)\n",
        "clustering_result = display_results(clustering_evaluation"
      ]
    }
  ],
  "metadata": {
    "colab": {
      "include_colab_link": true,
      "provenance": []
    },
    "kernelspec": {
      "display_name": "Python 3",
      "language": "python",
      "name": "python3"
    },
    "language_info": {
      "codemirror_mode": {
        "name": "ipython",
        "version": 3
      },
      "file_extension": ".py",
      "mimetype": "text/x-python",
      "name": "python",
      "nbconvert_exporter": "python",
      "pygments_lexer": "ipython3",
      "version": "3.9.1"
    }
  },
  "nbformat": 4,
  "nbformat_minor": 0
}
