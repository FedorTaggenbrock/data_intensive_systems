{
  "cells": [
    {
      "cell_type": "markdown",
      "metadata": {
        "id": "view-in-github",
        "colab_type": "text"
      },
      "source": [
        "<a href=\"https://colab.research.google.com/github/FedorTaggenbrock/data_intensive_systems/blob/main/notebooks/main_tests_notebook.ipynb\" target=\"_parent\"><img src=\"https://colab.research.google.com/assets/colab-badge.svg\" alt=\"Open In Colab\"/></a>"
      ]
    },
    {
      "cell_type": "markdown",
      "metadata": {
        "id": "5aPsU73HSlLI"
      },
      "source": [
        "**Handle importing/installing, both local and on Colab**"
      ]
    },
    {
      "cell_type": "code",
      "execution_count": 3,
      "metadata": {
        "colab": {
          "base_uri": "https://localhost:8080/"
        },
        "id": "INJqht4-StzH",
        "outputId": "3a2a4802-1a78-4a3b-85b2-aa148425bb15"
      },
      "outputs": [
        {
          "output_type": "stream",
          "name": "stdout",
          "text": [
            "Looking in indexes: https://pypi.org/simple, https://us-python.pkg.dev/colab-wheels/public/simple/\n",
            "Requirement already satisfied: pyspark in /usr/local/lib/python3.10/dist-packages (3.4.1)\n",
            "Requirement already satisfied: py4j==0.10.9.7 in /usr/local/lib/python3.10/dist-packages (from pyspark) (0.10.9.7)\n",
            "Looking in indexes: https://pypi.org/simple, https://us-python.pkg.dev/colab-wheels/public/simple/\n",
            "Requirement already satisfied: ijson in /usr/local/lib/python3.10/dist-packages (3.2.2)\n"
          ]
        }
      ],
      "source": [
        "import sys\n",
        "global ON_COLAB\n",
        "ON_COLAB = 'google.colab' in sys.modules\n",
        "if ON_COLAB:\n",
        "    # Do stuff that only needs to happen on colab\n",
        "    !pip install pyspark  # noqa\n",
        "    !pip install ijson\n",
        "    pass\n",
        "else:\n",
        "    # Do stuff that only needs to happen on local computer\n",
        "    pass"
      ]
    },
    {
      "cell_type": "markdown",
      "metadata": {
        "collapsed": false,
        "id": "b6jttgVIJsPe"
      },
      "source": [
        "Rerun the code cell below to use the latest version of the python files!"
      ]
    },
    {
      "cell_type": "code",
      "execution_count": 8,
      "metadata": {
        "colab": {
          "base_uri": "https://localhost:8080/"
        },
        "id": "M_cMlVTtz4Ad",
        "outputId": "f9aea775-52e0-4917-9f4b-3972bacd6a40"
      },
      "outputs": [
        {
          "output_type": "stream",
          "name": "stdout",
          "text": [
            "Running in Colab: importing from GitHub.\n",
            "fatal: destination path 'data_intensive_systems' already exists and is not an empty directory.\n",
            "/content/data_intensive_systems\n",
            "remote: Enumerating objects: 7, done.\u001b[K\n",
            "remote: Counting objects: 100% (7/7), done.\u001b[K\n",
            "remote: Compressing objects: 100% (1/1), done.\u001b[K\n",
            "remote: Total 4 (delta 3), reused 4 (delta 3), pack-reused 0\u001b[K\n",
            "Unpacking objects: 100% (4/4), 326 bytes | 326.00 KiB/s, done.\n",
            "From https://github.com/FedorTaggenbrock/data_intensive_systems\n",
            " * branch            main       -> FETCH_HEAD\n",
            "   9feccee..38092e0  main       -> origin/main\n",
            "Updating 9feccee..38092e0\n",
            "Fast-forward\n",
            " src/plot_clustering.py | 2 \u001b[32m+\u001b[m\u001b[31m-\u001b[m\n",
            " 1 file changed, 1 insertion(+), 1 deletion(-)\n",
            "/content\n",
            "clustering\n",
            "data_visualization\n",
            "distance_functions\n",
            "evaluate_clustering\n",
            "generate_data\n",
            "main_tests\n",
            "plot_clustering\n",
            "parse_data\n",
            "abe_tests\n"
          ]
        }
      ],
      "source": [
        "import importlib\n",
        "\n",
        "def import_modules():\n",
        "    if ON_COLAB:\n",
        "        print(\"Running in Colab: importing from GitHub.\")\n",
        "        # Clone the repository\n",
        "        !git clone https://github.com/FedorTaggenbrock/data_intensive_systems.git\n",
        "\n",
        "        # Change the current working directory to the cloned repository directory\n",
        "        %cd /content/data_intensive_systems\n",
        "\n",
        "        # Pull the latest changes from the repository\n",
        "        !git pull origin main\n",
        "\n",
        "        # Change back to the original working directory\n",
        "        %cd /content\n",
        "\n",
        "        # Add the path of the modules to sys.path\n",
        "        sys.path.insert(0, \"/content/data_intensive_systems/src\")\n",
        "    else:\n",
        "        print(\"Running locally, importing from local.\")\n",
        "        # Append parent folder to path\n",
        "        sys.path.append('../src')\n",
        "\n",
        "    # Import and reload modules iteratively\n",
        "    module_names = ['clustering',\n",
        "                    'data_visualization',\n",
        "                    'distance_functions',\n",
        "                    'evaluate_clustering',\n",
        "                    'generate_data',\n",
        "                    'main_tests',\n",
        "                    'plot_clustering',\n",
        "                    # 'non_spark_function_debugger',\n",
        "                    'parse_data',\n",
        "                    # 'parse_data_2',\n",
        "                    # 'parse_data_3',\n",
        "                    'abe_tests',\n",
        "                    ]\n",
        "    for module_name in module_names:\n",
        "        print(module_name)\n",
        "\n",
        "        module = importlib.import_module(module_name)\n",
        "        importlib.reload(module)\n",
        "        globals()[module_name] = module\n",
        "\n",
        "import_modules()\n"
      ]
    },
    {
      "cell_type": "code",
      "execution_count": null,
      "metadata": {
        "id": "WEkh8sL6N742"
      },
      "outputs": [],
      "source": [
        "main_tests.run_all_tests()"
      ]
    },
    {
      "cell_type": "markdown",
      "source": [
        "-------"
      ],
      "metadata": {
        "id": "M0s-dx_d6sSc"
      }
    },
    {
      "cell_type": "code",
      "source": [
        "abe_tests.__run_all_tests()"
      ],
      "metadata": {
        "id": "FH5WxolLdo70"
      },
      "execution_count": null,
      "outputs": []
    },
    {
      "cell_type": "code",
      "source": [
        "# General modules\n",
        "import numpy as np\n",
        "import scipy.spatial.distance\n",
        "from sklearn.metrics import silhouette_score, davies_bouldin_score, calinski_harabasz_score\n",
        "import pickle\n",
        "import sys\n",
        "import os\n",
        "\n",
        "# Spark etc\n",
        "from pyspark import RDD\n",
        "from pyspark.sql import SparkSession\n",
        "\n",
        "# Typing\n",
        "from typing import Any, Callable, Union\n",
        "\n",
        "\n",
        "from pyspark.sql import SparkSession\n",
        "import pandas as pd\n",
        "\n",
        "# Own stuff\n",
        "\n",
        "# from data_visualization import plot_routes, convert_pd_df_to_one_row\n",
        "from plot_clustering import plot_metrics, plot_confusion_matrix2\n",
        "from clustering import run_clustering, run_final_clustering, route_distance\n",
        "from parse_data import get_nested_data, get_vector_dataframe, get_data\n",
        "from evaluate_clustering import evaluate_clustering, get_best_setting\n",
        "\n",
        "def save_results_test(results, clustering_settings):\n",
        "    os.makedirs('data/serialized_results_for_debugging/', exist_ok=True)\n",
        "    # Make the name of the file\n",
        "    algo = clustering_settings['clustering_algorithm']\n",
        "    kvals = '[' + '-'.join( [str(kval) for kval in clustering_settings['k_values']] ) + ']'\n",
        "    iters = clustering_settings['max_iterations']\n",
        "    name = f\"algo={algo}_kvalues={kvals}_maxiter={iters}\"\n",
        "\n",
        "    with open('data/serialized_results_for_debugging/results__{}__.pkl'.format(name), 'wb') as f:\n",
        "        pickle.dump(results, f)\n",
        "\n",
        "def load_results(path=r'data\\serialized_results_for_debugging\\results__algo=kmodes_kvalues=[3]_max_iter=4.pkl'):\n",
        "    with open(path, 'rb') as f:\n",
        "        return pickle.load(f)\n",
        "\n",
        "clustering_settings = {\n",
        "        'clustering_algorithm': 'kmeans',\n",
        "        'k_values': [4, 5, 6, 7, 8, 9, 10, 11, 12, 13],\n",
        "        'distance_function': route_distance,\n",
        "        'max_iterations': 4,\n",
        "        'debug_flag': False,\n",
        "    }\n",
        "\n",
        "spark = None\n",
        "spark = SparkSession.builder.appName(\"Clustering\").getOrCreate()\n",
        "\n",
        "\n",
        "print(\"Loading data\")\n",
        "\n",
        "_ON_COLAB = 'google.colab' in sys.modules\n",
        "if clustering_settings['debug_flag']: print('On colab: ', _ON_COLAB)\n",
        "general_data_path = r'\\data\\data_12_06\\1000_0.25_actual_routes.json'\n",
        "general_perfect_centroids_path = r'\\data\\data_12_06\\10_standard_route.json'\n",
        "try:\n",
        "    if _ON_COLAB:\n",
        "        data_path = '/content/data_intensive_systems' + general_data_path.replace(\"\\\\\", \"/\")\n",
        "        perfect_centroid_path = '/content/data_intensive_systems/data/data_12_06/10_standard_route.json'\n",
        "    else:\n",
        "        data_path = os.getcwd() + general_data_path\n",
        "        perfect_centroid_path = os.getcwd() + general_perfect_centroids_path\n",
        "except Exception as e:\n",
        "    print('Data path was not found.\\n\\n', e)\n",
        "    data_path = None\n",
        "    perfect_centroid_path = None\n",
        "\n",
        "# Load datafile\n",
        "if clustering_settings['clustering_algorithm'] == 'kmodes':\n",
        "    data = get_nested_data(spark, data_path, clustering_settings)\n",
        "    perfect_centroids = get_nested_data(spark, perfect_centroid_path, clustering_settings)\n",
        "elif clustering_settings['clustering_algorithm'] == 'kmeans':\n",
        "    data, indices2from_to_prods = get_vector_dataframe(spark, data_path, clustering_settings[\"debug_flag\"])\n",
        "    perfect_centroids = get_vector_dataframe(spark, perfect_centroid_path, clustering_settings[\"debug_flag\"])\n",
        "else:\n",
        "    data = None\n",
        "    perfect_centroids = None\n",
        "\n",
        "# Run the clustering algorithm\n",
        "print(\"Running run_clustering().\")\n",
        "results_and_metrics = run_clustering(\n",
        "    data=data,\n",
        "    clustering_settings=clustering_settings\n",
        ")\n",
        "\n",
        "# Save the results (optional, Abe)\n",
        "save_results_test(results_and_metrics, clustering_settings)\n",
        "\n",
        "# Evaluate the clustering\n",
        "results = results_and_metrics[0]\n",
        "metrics = results_and_metrics[1]\n",
        "\n",
        "if not metrics: # if kmodes, then metrics not yet calculated\n",
        "    print(\"Start evaluating clusters\")\n",
        "    metrics = evaluate_clustering(\n",
        "        data=data,\n",
        "        clustering_result=results_and_metrics,\n",
        "        clustering_settings=clustering_settings\n",
        "    )\n",
        "\n"
      ],
      "metadata": {
        "colab": {
          "base_uri": "https://localhost:8080/"
        },
        "id": "jbcY6-tu6l79",
        "outputId": "7280102d-e53f-4bdc-aa52-8a1314460ddb"
      },
      "execution_count": 10,
      "outputs": [
        {
          "output_type": "stream",
          "name": "stdout",
          "text": [
            "Loading data\n",
            "Running run_clustering().\n",
            "Performing clustering with k=4\n",
            "Performing clustering with k=5\n",
            "Performing clustering with k=6\n",
            "Performing clustering with k=7\n",
            "Performing clustering with k=8\n",
            "Performing clustering with k=9\n",
            "Performing clustering with k=10\n",
            "Performing clustering with k=11\n",
            "Performing clustering with k=12\n",
            "Performing clustering with k=13\n"
          ]
        }
      ]
    },
    {
      "cell_type": "code",
      "source": [
        "data.collect()[0]"
      ],
      "metadata": {
        "id": "6-edZbLcz4RH",
        "outputId": "37e2ec8b-6ee5-4ef8-b2a6-931489e0e6e3",
        "colab": {
          "base_uri": "https://localhost:8080/"
        }
      },
      "execution_count": 71,
      "outputs": [
        {
          "output_type": "execute_result",
          "data": {
            "text/plain": [
              "Row(id-sr='0 0', features=SparseVector(3120, {118: 12.0, 228: 14.0, 299: 14.0, 443: 18.0, 455: 16.0, 605: 8.0, 673: 5.0, 720: 7.0, 783: 3.0, 960: 13.0, 970: 12.0, 1033: 11.0, 1158: 11.0, 1253: 10.0, 1331: 8.0, 1469: 8.0, 1498: 4.0, 1590: 3.0, 1923: 8.0, 1962: 9.0, 2014: 18.0, 2015: 9.0, 2129: 12.0, 2305: 19.0, 2314: 13.0, 2371: 6.0, 2491: 10.0, 2627: 12.0, 2719: 13.0, 2733: 18.0, 2769: 11.0, 2926: 14.0, 2934: 19.0, 3056: 8.0, 3091: 4.0}))"
            ]
          },
          "metadata": {},
          "execution_count": 71
        }
      ]
    },
    {
      "cell_type": "code",
      "source": [
        "best_settings = get_best_setting(metrics)\n",
        "print(\"\\nBest settings are given by: \\n\", best_settings)\n",
        "\n",
        "# Generate plots\n",
        "metric_plot = plot_metrics(metrics, clustering_settings)\n",
        "metric_plot.show()"
      ],
      "metadata": {
        "colab": {
          "base_uri": "https://localhost:8080/",
          "height": 465
        },
        "id": "X3LCrD6P7-IV",
        "outputId": "b5ae7a10-f718-4a17-e77d-d4f6587da512"
      },
      "execution_count": 11,
      "outputs": [
        {
          "output_type": "stream",
          "name": "stdout",
          "text": [
            "\n",
            "Best settings are given by: \n",
            " {'k': 12}\n"
          ]
        },
        {
          "output_type": "display_data",
          "data": {
            "text/plain": [
              "<Figure size 1000x500 with 2 Axes>"
            ],
            "image/png": "[encoded data removed]"
          },
          "metadata": {}
        }
      ]
    },
    {
      "cell_type": "code",
      "source": [
        "import numpy as np\n",
        "import math\n",
        "from collections import Counter\n",
        "import random\n",
        "import os\n",
        "from copy import copy\n",
        "from statistics import mode\n",
        "\n",
        "from functools import reduce\n",
        "import numpy as np\n",
        "import math\n",
        "from copy import copy\n",
        "from statistics import mode\n",
        "\n",
        "# Spark\n",
        "from pyspark import RDD\n",
        "from pyspark.sql import SparkSession\n",
        "from pyspark.sql.functions import udf\n",
        "from pyspark import RDD\n",
        "from pyspark.sql import SparkSession\n",
        "from pyspark.sql.functions import udf\n",
        "from functools import reduce\n",
        "\n",
        "\n",
        "from pyspark.sql import DataFrame\n",
        "\n",
        "# kmeans\n",
        "from pyspark.ml.clustering import KMeans\n",
        "\n",
        "# Evaluation\n",
        "\n",
        "\n",
        "\n",
        "\n",
        "\n",
        "def run_clustering(data, clustering_settings: dict, perfect_centroids=None) -> tuple[list, list]:\n",
        "    '''Define variables to store results.'''\n",
        "    # E.g. for kmodes:  ( results                                , metrics                                      )\n",
        "    # E.g. for kmodes:  ( [(predicted_centroids, (k, init_mode))], []                                           )\n",
        "    #           kmeans: ( [(predicted_centroids, (k, init_mode))], [ {'silhoutte_score': 0.6}, (k, init_mode) ] )\n",
        "    results = []\n",
        "    metrics = []\n",
        "\n",
        "    # Check which clustering algortihm to run\n",
        "    if clustering_settings['clustering_algorithm'] == 'kmodes':\n",
        "        for current_k in clustering_settings['k_values']:\n",
        "            # TODO in the future add other parameters here.\n",
        "            # Run clustering with current parameters\n",
        "            print(\"Performing clustering with k= \", current_k)\n",
        "            predicted_centroids = kModes(\n",
        "                data=data,\n",
        "                k=current_k,\n",
        "                clustering_settings=clustering_settings\n",
        "            )\n",
        "\n",
        "            # Store the settings, model, and metrics\n",
        "            results.append((predicted_centroids, {'k': current_k}))\n",
        "            if clustering_settings[\"debug_flag\"]:\n",
        "                print(f\"The centroids for k = {current_k} are given by: {[c[0] for c in predicted_centroids]}\")\n",
        "    elif clustering_settings['clustering_algorithm'] == 'kmeans':\n",
        "        for current_k in clustering_settings['k_values']:\n",
        "            print(f\"Performing clustering with k={current_k}\")\n",
        "            clustered_data, predicted_centroids = kMeans(\n",
        "                data=data,\n",
        "                k=current_k,\n",
        "                clustering_settings=clustering_settings\n",
        "            )\n",
        "\n",
        "            # Evualate the clustering\n",
        "            curr_metric = evaluate_kMeans(\n",
        "                clustered_data=clustered_data,\n",
        "                predicted_centroids=predicted_centroids,\n",
        "                perfect_centroids=perfect_centroids,\n",
        "                clustering_settings=clustering_settings\n",
        "            )\n",
        "            # Also store current k\n",
        "            curr_metric['settings'] = {'k':current_k}\n",
        "\n",
        "            # Store the settings, model, and metrics\n",
        "            results.append((predicted_centroids, {'k': current_k}))\n",
        "            metrics.append(curr_metric)\n",
        "\n",
        "            if clustering_settings[\"debug_flag\"]:\n",
        "                print(\"The centroids for  k = \", current_k, \" are given by:\\n\")\n",
        "                # for c in predicted_centroids: print(c)\n",
        "                pass\n",
        "\n",
        "    else:\n",
        "        print(\"Clustering algorithm setting not recognized in run_and_tune().\")\n",
        "\n",
        "    if clustering_settings[\"debug_flag\"]:\n",
        "        print(\"The output results for multiple k is given by:\", results)\n",
        "    return (results, metrics)\n",
        "\n",
        "def run_final_clustering(data, best_setting: dict, clustering_settings: dict, perfect_centroids=None) -> tuple[DataFrame, list, dict]:\n",
        "    \"\"\"To be ran after tuning, will be very similar to the run_clustering, but the best_setting can be used.\"\"\"\n",
        "\n",
        "    clustered_data = None\n",
        "    predicted_centroids = None\n",
        "    curr_metric = None\n",
        "\n",
        "    # Check which clustering algortihm to run\n",
        "    if clustering_settings['clustering_algorithm'] == 'kmodes':\n",
        "        print(f\"Running final clustering with k={best_setting['k']}\")\n",
        "        clustered_data, predicted_centroids = kModes(\n",
        "            data=data,\n",
        "            k=best_setting['k'],\n",
        "            clustering_settings=clustering_settings\n",
        "        )\n",
        "\n",
        "        curr_metric = evaluate_kMeans(\n",
        "            clustered_data=clustered_data,\n",
        "            predicted_centroids=predicted_centroids,\n",
        "            perfect_centroids=perfect_centroids,\n",
        "            clustering_settings=clustering_settings\n",
        "        )\n",
        "        raise NotImplementedError(\"kmodes not implemented yet\")\n",
        "\n",
        "    else: # clustering_settings['clustering_algorithm'] == 'kmeans':\n",
        "        # Cluster and evaluate\n",
        "        print(f\"Running final clustering with k={best_setting['k']}\")\n",
        "        clustered_data, predicted_centroids = kMeans(\n",
        "            data=data,\n",
        "            k=best_setting['k'],\n",
        "            clustering_settings=clustering_settings\n",
        "        )\n",
        "\n",
        "        curr_metric = evaluate_kMeans(\n",
        "            clustered_data=clustered_data,\n",
        "            predicted_centroids=predicted_centroids,\n",
        "            perfect_centroids=perfect_centroids,\n",
        "            clustering_settings=clustering_settings\n",
        "        )\n",
        "\n",
        "    return (clustered_data, predicted_centroids, curr_metric)\n",
        "\n",
        "def kMeans(data: DataFrame, k: int, clustering_settings: dict) -> tuple[DataFrame, list]:\n",
        "    # Creating the K-means instance\n",
        "    kmeans = KMeans(k=k)\n",
        "\n",
        "    # Fitting the model\n",
        "    model = kmeans.fit(data.select('features'))\n",
        "\n",
        "    # Getting the cluster predictions\n",
        "    clustered_data = model.transform(data)\n",
        "\n",
        "    if clustering_settings[\"debug_flag\"]:\n",
        "        print(\"clustered_df structure:\")\n",
        "        clustered_data.show(2)\n",
        "\n",
        "    return clustered_data, model.clusterCenters()\n",
        "\n"
      ],
      "metadata": {
        "id": "iP6ScUEDiZK0"
      },
      "execution_count": 56,
      "outputs": []
    },
    {
      "cell_type": "code",
      "source": [
        "# General modules\n",
        "import numpy as np\n",
        "import scipy.spatial.distance\n",
        "from sklearn.metrics import silhouette_score, davies_bouldin_score, calinski_harabasz_score\n",
        "import pandas as pd\n",
        "\n",
        "# Spark etc\n",
        "from pyspark import RDD\n",
        "from pyspark.sql import SparkSession\n",
        "\n",
        "# Typing\n",
        "from typing import Any, Union\n",
        "\n",
        "# Own stuff\n",
        "\n",
        "# kmeans\n",
        "from pyspark.ml.evaluation import ClusteringEvaluator\n",
        "\n",
        "\n",
        "\n",
        "\n",
        "def run_clustering(data, clustering_settings: dict, perfect_centroids=None) -> tuple[list, list]:\n",
        "    '''Define variables to store results.'''\n",
        "    # E.g. for kmodes:  ( results                                , metrics                                      )\n",
        "    # E.g. for kmodes:  ( [(predicted_centroids, (k, init_mode))], []                                           )\n",
        "    #           kmeans: ( [(predicted_centroids, (k, init_mode))], [ {'silhoutte_score': 0.6}, (k, init_mode) ] )\n",
        "    results = []\n",
        "    metrics = []\n",
        "\n",
        "    # Check which clustering algortihm to run\n",
        "    if clustering_settings['clustering_algorithm'] == 'kmodes':\n",
        "        for current_k in clustering_settings['k_values']:\n",
        "            # TODO in the future add other parameters here.\n",
        "            # Run clustering with current parameters\n",
        "            print(\"Performing clustering with k= \", current_k)\n",
        "            predicted_centroids = kModes(\n",
        "                data=data,\n",
        "                k=current_k,\n",
        "                clustering_settings=clustering_settings\n",
        "            )\n",
        "\n",
        "            # Store the settings, model, and metrics\n",
        "            results.append((predicted_centroids, {'k': current_k}))\n",
        "            if clustering_settings[\"debug_flag\"]:\n",
        "                print(f\"The centroids for k = {current_k} are given by: {[c[0] for c in predicted_centroids]}\")\n",
        "    elif clustering_settings['clustering_algorithm'] == 'kmeans':\n",
        "        for current_k in clustering_settings['k_values']:\n",
        "            print(f\"Performing clustering with k={current_k}\")\n",
        "            clustered_data, predicted_centroids = kMeans(\n",
        "                data=data,\n",
        "                k=current_k,\n",
        "                clustering_settings=clustering_settings\n",
        "            )\n",
        "\n",
        "            # Evualate the clustering\n",
        "            curr_metric = evaluate_kMeans(\n",
        "                clustered_data=clustered_data,\n",
        "                predicted_centroids=predicted_centroids,\n",
        "                perfect_centroids=perfect_centroids,\n",
        "                clustering_settings=clustering_settings\n",
        "            )\n",
        "            # Also store current k\n",
        "            curr_metric['settings'] = {'k':current_k}\n",
        "\n",
        "            # Store the settings, model, and metrics\n",
        "            results.append((predicted_centroids, {'k': current_k}))\n",
        "            metrics.append(curr_metric)\n",
        "\n",
        "            if clustering_settings[\"debug_flag\"]:\n",
        "                print(\"The centroids for  k = \", current_k, \" are given by:\\n\")\n",
        "                # for c in predicted_centroids: print(c)\n",
        "                pass\n",
        "\n",
        "    else:\n",
        "        print(\"Clustering algorithm setting not recognized in run_and_tune().\")\n",
        "\n",
        "    if clustering_settings[\"debug_flag\"]:\n",
        "        print(\"The output results for multiple k is given by:\", results)\n",
        "    return (results, metrics)\n",
        "\n",
        "def run_final_clustering(data, best_setting: dict, clustering_settings: dict, perfect_centroids=None) -> tuple[DataFrame, list, dict]:\n",
        "    \"\"\"To be ran after tuning, will be very similar to the run_clustering, but the best_setting can be used.\"\"\"\n",
        "\n",
        "    clustered_data = None\n",
        "    predicted_centroids = None\n",
        "    curr_metric = None\n",
        "\n",
        "    # Check which clustering algortihm to run\n",
        "    if clustering_settings['clustering_algorithm'] == 'kmodes':\n",
        "        print(f\"Running final clustering with k={best_setting['k']}\")\n",
        "        clustered_data, predicted_centroids = kModes(\n",
        "            data=data,\n",
        "            k=best_setting['k'],\n",
        "            clustering_settings=clustering_settings\n",
        "        )\n",
        "\n",
        "        curr_metric = evaluate_kMeans(\n",
        "            clustered_data=clustered_data,\n",
        "            predicted_centroids=predicted_centroids,\n",
        "            perfect_centroids=perfect_centroids,\n",
        "            clustering_settings=clustering_settings\n",
        "        )\n",
        "        raise NotImplementedError(\"kmodes not implemented yet\")\n",
        "\n",
        "    else: # clustering_settings['clustering_algorithm'] == 'kmeans':\n",
        "        # Cluster and evaluate\n",
        "        print(f\"Running final clustering with k={best_setting['k']}\")\n",
        "        clustered_data, predicted_centroids = kMeans(\n",
        "            data=data,\n",
        "            k=best_setting['k'],\n",
        "            clustering_settings=clustering_settings\n",
        "        )\n",
        "\n",
        "        curr_metric = evaluate_kMeans(\n",
        "            clustered_data=clustered_data,\n",
        "            predicted_centroids=predicted_centroids,\n",
        "            perfect_centroids=perfect_centroids,\n",
        "            clustering_settings=clustering_settings\n",
        "        )\n",
        "\n",
        "    return (clustered_data, predicted_centroids, curr_metric)\n",
        "\n",
        "\n",
        "def kMeans(data: DataFrame, k: int, clustering_settings: dict) -> tuple[DataFrame, list]:\n",
        "    # Creating the K-means instance\n",
        "    kmeans = KMeans(k=k)\n",
        "\n",
        "    # Fitting the model\n",
        "    model = kmeans.fit(data.select('features'))\n",
        "\n",
        "    # Getting the cluster predictions\n",
        "    clustered_data = model.transform(data)\n",
        "\n",
        "    if clustering_settings[\"debug_flag\"]:\n",
        "        print(\"clustered_df structure:\")\n",
        "        clustered_data.show(2)\n",
        "\n",
        "    return clustered_data, model.clusterCenters()\n",
        "\n",
        "\n",
        "from pyspark.sql.types import FloatType\n",
        "from scipy.spatial import distance\n",
        "from pyspark.ml.linalg import Vectors\n",
        "from pyspark.sql.functions import col, mean\n",
        "\n",
        "import pyspark.sql.functions as F\n",
        "from pyspark.sql.functions import pandas_udf\n",
        "from pyspark.sql.pandas.functions import PandasUDFType\n",
        "\n",
        "@pandas_udf(\"float\")\n",
        "def euclidean_distance_pandas(features: pd.Series, prediction: pd.Series) -> pd.Series:\n",
        "    # Convert features to appropriate format\n",
        "    features = features.apply(lambda x: x.toArray().tolist() if hasattr(x, \"toArray\") else x)\n",
        "    # Use numpy array for efficient computations\n",
        "    features = pd.Series(list(features)).apply(np.array)\n",
        "    # Calculate euclidean distance\n",
        "    distances = features.apply(lambda x: distance.euclidean(x, predicted_centroids[prediction]))\n",
        "    return distances\n",
        "\n",
        "def evaluate_kMeans(clustered_data, predicted_centroids, clustering_settings: dict, perfect_centroids=None) -> dict:\n",
        "    # Store the results etc\n",
        "    metrics = {}\n",
        "    debug1=True\n",
        "    if debug1: print('calculating distance')\n",
        "\n",
        "    # Use the Pandas UDF to add a 'distance' column\n",
        "    clustered_data = clustered_data.withColumn('distance', euclidean_distance_pandas(clustered_data['features'], clustered_data['prediction']))\n",
        "    # Calculate the metrics\n",
        "\n",
        "    if debug1: print('aggregating metrics')\n",
        "    # Initialize the evaluator\n",
        "    evaluator = ClusteringEvaluator()\n",
        "    metrics['silhouette_score'] = evaluator.evaluate(clustered_data)\n",
        "\n",
        "    # Calculate the average sum-of-squared distance to each cluster center\n",
        "    metrics['avg_sum_of_squared_distance'] = clustered_data.agg(F.mean('distance')).first()[0]\n",
        "\n",
        "    return metrics\n",
        "\n"
      ],
      "metadata": {
        "id": "Z-BNiaM7j-JL"
      },
      "execution_count": 76,
      "outputs": []
    },
    {
      "cell_type": "code",
      "source": [
        "# Get final results\n",
        "clustered_data, predicted_centroids, metric = run_final_clustering(\n",
        "    data=data,\n",
        "    clustering_settings=clustering_settings,\n",
        "    best_setting=best_settings,\n",
        ")"
      ],
      "metadata": {
        "colab": {
          "base_uri": "https://localhost:8080/",
          "height": 1000
        },
        "id": "VBgfeGHaAKnZ",
        "outputId": "4d3dedcd-bb0e-4d7d-973e-c8fc70f113bd"
      },
      "execution_count": 77,
      "outputs": [
        {
          "output_type": "stream",
          "name": "stdout",
          "text": [
            "Running final clustering with k=12\n",
            "calculating distance\n",
            "aggregating metrics\n"
          ]
        },
        {
          "output_type": "error",
          "ename": "PythonException",
          "evalue": "ignored",
          "traceback": [
            "\u001b[0;31m---------------------------------------------------------------------------\u001b[0m",
            "\u001b[0;31mPythonException\u001b[0m                           Traceback (most recent call last)",
            "\u001b[0;32m<ipython-input-77-1549415945ee>\u001b[0m in \u001b[0;36m<cell line: 2>\u001b[0;34m()\u001b[0m\n\u001b[1;32m      1\u001b[0m \u001b[0;31m# Get final results\u001b[0m\u001b[0;34m\u001b[0m\u001b[0;34m\u001b[0m\u001b[0m\n\u001b[0;32m----> 2\u001b[0;31m clustered_data, predicted_centroids, metric = run_final_clustering(\n\u001b[0m\u001b[1;32m      3\u001b[0m     \u001b[0mdata\u001b[0m\u001b[0;34m=\u001b[0m\u001b[0mdata\u001b[0m\u001b[0;34m,\u001b[0m\u001b[0;34m\u001b[0m\u001b[0;34m\u001b[0m\u001b[0m\n\u001b[1;32m      4\u001b[0m     \u001b[0mclustering_settings\u001b[0m\u001b[0;34m=\u001b[0m\u001b[0mclustering_settings\u001b[0m\u001b[0;34m,\u001b[0m\u001b[0;34m\u001b[0m\u001b[0;34m\u001b[0m\u001b[0m\n\u001b[1;32m      5\u001b[0m     \u001b[0mbest_setting\u001b[0m\u001b[0;34m=\u001b[0m\u001b[0mbest_settings\u001b[0m\u001b[0;34m,\u001b[0m\u001b[0;34m\u001b[0m\u001b[0;34m\u001b[0m\u001b[0m\n",
            "\u001b[0;32m<ipython-input-76-2e2f7c344b94>\u001b[0m in \u001b[0;36mrun_final_clustering\u001b[0;34m(data, best_setting, clustering_settings, perfect_centroids)\u001b[0m\n\u001b[1;32m    112\u001b[0m         )\n\u001b[1;32m    113\u001b[0m \u001b[0;34m\u001b[0m\u001b[0m\n\u001b[0;32m--> 114\u001b[0;31m         curr_metric = evaluate_kMeans(\n\u001b[0m\u001b[1;32m    115\u001b[0m             \u001b[0mclustered_data\u001b[0m\u001b[0;34m=\u001b[0m\u001b[0mclustered_data\u001b[0m\u001b[0;34m,\u001b[0m\u001b[0;34m\u001b[0m\u001b[0;34m\u001b[0m\u001b[0m\n\u001b[1;32m    116\u001b[0m             \u001b[0mpredicted_centroids\u001b[0m\u001b[0;34m=\u001b[0m\u001b[0mpredicted_centroids\u001b[0m\u001b[0;34m,\u001b[0m\u001b[0;34m\u001b[0m\u001b[0;34m\u001b[0m\u001b[0m\n",
            "\u001b[0;32m<ipython-input-76-2e2f7c344b94>\u001b[0m in \u001b[0;36mevaluate_kMeans\u001b[0;34m(clustered_data, predicted_centroids, clustering_settings, perfect_centroids)\u001b[0m\n\u001b[1;32m    174\u001b[0m \u001b[0;34m\u001b[0m\u001b[0m\n\u001b[1;32m    175\u001b[0m     \u001b[0;31m# Calculate the average sum-of-squared distance to each cluster center\u001b[0m\u001b[0;34m\u001b[0m\u001b[0;34m\u001b[0m\u001b[0m\n\u001b[0;32m--> 176\u001b[0;31m     \u001b[0mmetrics\u001b[0m\u001b[0;34m[\u001b[0m\u001b[0;34m'avg_sum_of_squared_distance'\u001b[0m\u001b[0;34m]\u001b[0m \u001b[0;34m=\u001b[0m \u001b[0mclustered_data\u001b[0m\u001b[0;34m.\u001b[0m\u001b[0magg\u001b[0m\u001b[0;34m(\u001b[0m\u001b[0mF\u001b[0m\u001b[0;34m.\u001b[0m\u001b[0mmean\u001b[0m\u001b[0;34m(\u001b[0m\u001b[0;34m'distance'\u001b[0m\u001b[0;34m)\u001b[0m\u001b[0;34m)\u001b[0m\u001b[0;34m.\u001b[0m\u001b[0mfirst\u001b[0m\u001b[0;34m(\u001b[0m\u001b[0;34m)\u001b[0m\u001b[0;34m[\u001b[0m\u001b[0;36m0\u001b[0m\u001b[0;34m]\u001b[0m\u001b[0;34m\u001b[0m\u001b[0;34m\u001b[0m\u001b[0m\n\u001b[0m\u001b[1;32m    177\u001b[0m \u001b[0;34m\u001b[0m\u001b[0m\n\u001b[1;32m    178\u001b[0m     \u001b[0;32mreturn\u001b[0m \u001b[0mmetrics\u001b[0m\u001b[0;34m\u001b[0m\u001b[0;34m\u001b[0m\u001b[0m\n",
            "\u001b[0;32m/usr/local/lib/python3.10/dist-packages/pyspark/sql/dataframe.py\u001b[0m in \u001b[0;36mfirst\u001b[0;34m(self)\u001b[0m\n\u001b[1;32m   2843\u001b[0m         \u001b[0mRow\u001b[0m\u001b[0;34m(\u001b[0m\u001b[0mage\u001b[0m\u001b[0;34m=\u001b[0m\u001b[0;36m2\u001b[0m\u001b[0;34m,\u001b[0m \u001b[0mname\u001b[0m\u001b[0;34m=\u001b[0m\u001b[0;34m'Alice'\u001b[0m\u001b[0;34m)\u001b[0m\u001b[0;34m\u001b[0m\u001b[0;34m\u001b[0m\u001b[0m\n\u001b[1;32m   2844\u001b[0m         \"\"\"\n\u001b[0;32m-> 2845\u001b[0;31m         \u001b[0;32mreturn\u001b[0m \u001b[0mself\u001b[0m\u001b[0;34m.\u001b[0m\u001b[0mhead\u001b[0m\u001b[0;34m(\u001b[0m\u001b[0;34m)\u001b[0m\u001b[0;34m\u001b[0m\u001b[0;34m\u001b[0m\u001b[0m\n\u001b[0m\u001b[1;32m   2846\u001b[0m \u001b[0;34m\u001b[0m\u001b[0m\n\u001b[1;32m   2847\u001b[0m     \u001b[0;34m@\u001b[0m\u001b[0moverload\u001b[0m\u001b[0;34m\u001b[0m\u001b[0;34m\u001b[0m\u001b[0m\n",
            "\u001b[0;32m/usr/local/lib/python3.10/dist-packages/pyspark/sql/dataframe.py\u001b[0m in \u001b[0;36mhead\u001b[0;34m(self, n)\u001b[0m\n\u001b[1;32m   2819\u001b[0m         \"\"\"\n\u001b[1;32m   2820\u001b[0m         \u001b[0;32mif\u001b[0m \u001b[0mn\u001b[0m \u001b[0;32mis\u001b[0m \u001b[0;32mNone\u001b[0m\u001b[0;34m:\u001b[0m\u001b[0;34m\u001b[0m\u001b[0;34m\u001b[0m\u001b[0m\n\u001b[0;32m-> 2821\u001b[0;31m             \u001b[0mrs\u001b[0m \u001b[0;34m=\u001b[0m \u001b[0mself\u001b[0m\u001b[0;34m.\u001b[0m\u001b[0mhead\u001b[0m\u001b[0;34m(\u001b[0m\u001b[0;36m1\u001b[0m\u001b[0;34m)\u001b[0m\u001b[0;34m\u001b[0m\u001b[0;34m\u001b[0m\u001b[0m\n\u001b[0m\u001b[1;32m   2822\u001b[0m             \u001b[0;32mreturn\u001b[0m \u001b[0mrs\u001b[0m\u001b[0;34m[\u001b[0m\u001b[0;36m0\u001b[0m\u001b[0;34m]\u001b[0m \u001b[0;32mif\u001b[0m \u001b[0mrs\u001b[0m \u001b[0;32melse\u001b[0m \u001b[0;32mNone\u001b[0m\u001b[0;34m\u001b[0m\u001b[0;34m\u001b[0m\u001b[0m\n\u001b[1;32m   2823\u001b[0m         \u001b[0;32mreturn\u001b[0m \u001b[0mself\u001b[0m\u001b[0;34m.\u001b[0m\u001b[0mtake\u001b[0m\u001b[0;34m(\u001b[0m\u001b[0mn\u001b[0m\u001b[0;34m)\u001b[0m\u001b[0;34m\u001b[0m\u001b[0;34m\u001b[0m\u001b[0m\n",
            "\u001b[0;32m/usr/local/lib/python3.10/dist-packages/pyspark/sql/dataframe.py\u001b[0m in \u001b[0;36mhead\u001b[0;34m(self, n)\u001b[0m\n\u001b[1;32m   2821\u001b[0m             \u001b[0mrs\u001b[0m \u001b[0;34m=\u001b[0m \u001b[0mself\u001b[0m\u001b[0;34m.\u001b[0m\u001b[0mhead\u001b[0m\u001b[0;34m(\u001b[0m\u001b[0;36m1\u001b[0m\u001b[0;34m)\u001b[0m\u001b[0;34m\u001b[0m\u001b[0;34m\u001b[0m\u001b[0m\n\u001b[1;32m   2822\u001b[0m             \u001b[0;32mreturn\u001b[0m \u001b[0mrs\u001b[0m\u001b[0;34m[\u001b[0m\u001b[0;36m0\u001b[0m\u001b[0;34m]\u001b[0m \u001b[0;32mif\u001b[0m \u001b[0mrs\u001b[0m \u001b[0;32melse\u001b[0m \u001b[0;32mNone\u001b[0m\u001b[0;34m\u001b[0m\u001b[0;34m\u001b[0m\u001b[0m\n\u001b[0;32m-> 2823\u001b[0;31m         \u001b[0;32mreturn\u001b[0m \u001b[0mself\u001b[0m\u001b[0;34m.\u001b[0m\u001b[0mtake\u001b[0m\u001b[0;34m(\u001b[0m\u001b[0mn\u001b[0m\u001b[0;34m)\u001b[0m\u001b[0;34m\u001b[0m\u001b[0;34m\u001b[0m\u001b[0m\n\u001b[0m\u001b[1;32m   2824\u001b[0m \u001b[0;34m\u001b[0m\u001b[0m\n\u001b[1;32m   2825\u001b[0m     \u001b[0;32mdef\u001b[0m \u001b[0mfirst\u001b[0m\u001b[0;34m(\u001b[0m\u001b[0mself\u001b[0m\u001b[0;34m)\u001b[0m \u001b[0;34m->\u001b[0m \u001b[0mOptional\u001b[0m\u001b[0;34m[\u001b[0m\u001b[0mRow\u001b[0m\u001b[0;34m]\u001b[0m\u001b[0;34m:\u001b[0m\u001b[0;34m\u001b[0m\u001b[0;34m\u001b[0m\u001b[0m\n",
            "\u001b[0;32m/usr/local/lib/python3.10/dist-packages/pyspark/sql/dataframe.py\u001b[0m in \u001b[0;36mtake\u001b[0;34m(self, num)\u001b[0m\n\u001b[1;32m   1320\u001b[0m         \u001b[0;34m[\u001b[0m\u001b[0mRow\u001b[0m\u001b[0;34m(\u001b[0m\u001b[0mage\u001b[0m\u001b[0;34m=\u001b[0m\u001b[0;36m14\u001b[0m\u001b[0;34m,\u001b[0m \u001b[0mname\u001b[0m\u001b[0;34m=\u001b[0m\u001b[0;34m'Tom'\u001b[0m\u001b[0;34m)\u001b[0m\u001b[0;34m,\u001b[0m \u001b[0mRow\u001b[0m\u001b[0;34m(\u001b[0m\u001b[0mage\u001b[0m\u001b[0;34m=\u001b[0m\u001b[0;36m23\u001b[0m\u001b[0;34m,\u001b[0m \u001b[0mname\u001b[0m\u001b[0;34m=\u001b[0m\u001b[0;34m'Alice'\u001b[0m\u001b[0;34m)\u001b[0m\u001b[0;34m]\u001b[0m\u001b[0;34m\u001b[0m\u001b[0;34m\u001b[0m\u001b[0m\n\u001b[1;32m   1321\u001b[0m         \"\"\"\n\u001b[0;32m-> 1322\u001b[0;31m         \u001b[0;32mreturn\u001b[0m \u001b[0mself\u001b[0m\u001b[0;34m.\u001b[0m\u001b[0mlimit\u001b[0m\u001b[0;34m(\u001b[0m\u001b[0mnum\u001b[0m\u001b[0;34m)\u001b[0m\u001b[0;34m.\u001b[0m\u001b[0mcollect\u001b[0m\u001b[0;34m(\u001b[0m\u001b[0;34m)\u001b[0m\u001b[0;34m\u001b[0m\u001b[0;34m\u001b[0m\u001b[0m\n\u001b[0m\u001b[1;32m   1323\u001b[0m \u001b[0;34m\u001b[0m\u001b[0m\n\u001b[1;32m   1324\u001b[0m     \u001b[0;32mdef\u001b[0m \u001b[0mtail\u001b[0m\u001b[0;34m(\u001b[0m\u001b[0mself\u001b[0m\u001b[0;34m,\u001b[0m \u001b[0mnum\u001b[0m\u001b[0;34m:\u001b[0m \u001b[0mint\u001b[0m\u001b[0;34m)\u001b[0m \u001b[0;34m->\u001b[0m \u001b[0mList\u001b[0m\u001b[0;34m[\u001b[0m\u001b[0mRow\u001b[0m\u001b[0;34m]\u001b[0m\u001b[0;34m:\u001b[0m\u001b[0;34m\u001b[0m\u001b[0;34m\u001b[0m\u001b[0m\n",
            "\u001b[0;32m/usr/local/lib/python3.10/dist-packages/pyspark/sql/dataframe.py\u001b[0m in \u001b[0;36mcollect\u001b[0;34m(self)\u001b[0m\n\u001b[1;32m   1214\u001b[0m         \"\"\"\n\u001b[1;32m   1215\u001b[0m         \u001b[0;32mwith\u001b[0m \u001b[0mSCCallSiteSync\u001b[0m\u001b[0;34m(\u001b[0m\u001b[0mself\u001b[0m\u001b[0;34m.\u001b[0m\u001b[0m_sc\u001b[0m\u001b[0;34m)\u001b[0m\u001b[0;34m:\u001b[0m\u001b[0;34m\u001b[0m\u001b[0;34m\u001b[0m\u001b[0m\n\u001b[0;32m-> 1216\u001b[0;31m             \u001b[0msock_info\u001b[0m \u001b[0;34m=\u001b[0m \u001b[0mself\u001b[0m\u001b[0;34m.\u001b[0m\u001b[0m_jdf\u001b[0m\u001b[0;34m.\u001b[0m\u001b[0mcollectToPython\u001b[0m\u001b[0;34m(\u001b[0m\u001b[0;34m)\u001b[0m\u001b[0;34m\u001b[0m\u001b[0;34m\u001b[0m\u001b[0m\n\u001b[0m\u001b[1;32m   1217\u001b[0m         \u001b[0;32mreturn\u001b[0m \u001b[0mlist\u001b[0m\u001b[0;34m(\u001b[0m\u001b[0m_load_from_socket\u001b[0m\u001b[0;34m(\u001b[0m\u001b[0msock_info\u001b[0m\u001b[0;34m,\u001b[0m \u001b[0mBatchedSerializer\u001b[0m\u001b[0;34m(\u001b[0m\u001b[0mCPickleSerializer\u001b[0m\u001b[0;34m(\u001b[0m\u001b[0;34m)\u001b[0m\u001b[0;34m)\u001b[0m\u001b[0;34m)\u001b[0m\u001b[0;34m)\u001b[0m\u001b[0;34m\u001b[0m\u001b[0;34m\u001b[0m\u001b[0m\n\u001b[1;32m   1218\u001b[0m \u001b[0;34m\u001b[0m\u001b[0m\n",
            "\u001b[0;32m/usr/local/lib/python3.10/dist-packages/py4j/java_gateway.py\u001b[0m in \u001b[0;36m__call__\u001b[0;34m(self, *args)\u001b[0m\n\u001b[1;32m   1320\u001b[0m \u001b[0;34m\u001b[0m\u001b[0m\n\u001b[1;32m   1321\u001b[0m         \u001b[0manswer\u001b[0m \u001b[0;34m=\u001b[0m \u001b[0mself\u001b[0m\u001b[0;34m.\u001b[0m\u001b[0mgateway_client\u001b[0m\u001b[0;34m.\u001b[0m\u001b[0msend_command\u001b[0m\u001b[0;34m(\u001b[0m\u001b[0mcommand\u001b[0m\u001b[0;34m)\u001b[0m\u001b[0;34m\u001b[0m\u001b[0;34m\u001b[0m\u001b[0m\n\u001b[0;32m-> 1322\u001b[0;31m         return_value = get_return_value(\n\u001b[0m\u001b[1;32m   1323\u001b[0m             answer, self.gateway_client, self.target_id, self.name)\n\u001b[1;32m   1324\u001b[0m \u001b[0;34m\u001b[0m\u001b[0m\n",
            "\u001b[0;32m/usr/local/lib/python3.10/dist-packages/pyspark/errors/exceptions/captured.py\u001b[0m in \u001b[0;36mdeco\u001b[0;34m(*a, **kw)\u001b[0m\n\u001b[1;32m    173\u001b[0m                 \u001b[0;31m# Hide where the exception came from that shows a non-Pythonic\u001b[0m\u001b[0;34m\u001b[0m\u001b[0;34m\u001b[0m\u001b[0m\n\u001b[1;32m    174\u001b[0m                 \u001b[0;31m# JVM exception message.\u001b[0m\u001b[0;34m\u001b[0m\u001b[0;34m\u001b[0m\u001b[0m\n\u001b[0;32m--> 175\u001b[0;31m                 \u001b[0;32mraise\u001b[0m \u001b[0mconverted\u001b[0m \u001b[0;32mfrom\u001b[0m \u001b[0;32mNone\u001b[0m\u001b[0;34m\u001b[0m\u001b[0;34m\u001b[0m\u001b[0m\n\u001b[0m\u001b[1;32m    176\u001b[0m             \u001b[0;32melse\u001b[0m\u001b[0;34m:\u001b[0m\u001b[0;34m\u001b[0m\u001b[0;34m\u001b[0m\u001b[0m\n\u001b[1;32m    177\u001b[0m                 \u001b[0;32mraise\u001b[0m\u001b[0;34m\u001b[0m\u001b[0;34m\u001b[0m\u001b[0m\n",
            "\u001b[0;31mPythonException\u001b[0m: \n  An exception was thrown from the Python worker. Please see the stack trace below.\nTraceback (most recent call last):\n  File \"<ipython-input-76-2e2f7c344b94>\", line 157, in euclidean_distance_pandas\n  File \"/usr/local/lib/python3.10/dist-packages/pandas/core/series.py\", line 4771, in apply\n    return SeriesApply(self, func, convert_dtype, args, kwargs).apply()\n  File \"/usr/local/lib/python3.10/dist-packages/pandas/core/apply.py\", line 1123, in apply\n    return self.apply_standard()\n  File \"/usr/local/lib/python3.10/dist-packages/pandas/core/apply.py\", line 1174, in apply_standard\n    mapped = lib.map_infer(\n  File \"pandas/_libs/lib.pyx\", line 2924, in pandas._libs.lib.map_infer\n  File \"<ipython-input-76-2e2f7c344b94>\", line 157, in <lambda>\nTypeError: list indices must be integers or slices, not Series\n"
          ]
        }
      ]
    },
    {
      "cell_type": "code",
      "source": [
        "a = type(predicted_centroids[0])\n",
        "b = type(clustered_data)\n",
        "\n",
        "print(a)\n",
        "print(b)"
      ],
      "metadata": {
        "colab": {
          "base_uri": "https://localhost:8080/"
        },
        "id": "1vEqmQjirLUo",
        "outputId": "7c958396-e329-482f-c7ad-9c416620694e"
      },
      "execution_count": 55,
      "outputs": [
        {
          "output_type": "stream",
          "name": "stdout",
          "text": [
            "<class 'numpy.ndarray'>\n",
            "<class 'pyspark.sql.dataframe.DataFrame'>\n"
          ]
        }
      ]
    },
    {
      "cell_type": "code",
      "source": [
        "import seaborn as sns\n",
        "from pyspark.sql.functions import col, count\n",
        "import matplotlib.pyplot as plt\n",
        "import numpy as np\n",
        "from scipy.optimize import linear_sum_assignment\n",
        "\n",
        "def get_confusion_matrix(clustered_df):\n",
        "    # Generate a table which has the standard routes as rows and the cluster centres as columns. It shows for each found cluster center,\n",
        "    #  which route it belongs to; this is because the datapoints in each cluster are grouped per standard-route-id.\n",
        "    grouped_df = clustered_df.withColumn(\"sr\\predicted_clusters\", col(\"id-sr\").substr(-1, 1)) \\\n",
        "    .groupBy(\"sr\\\\predicted_clusters\") \\\n",
        "    .pivot(\"prediction\") \\\n",
        "    .agg(count(\"*\").alias(\"count\"))\n",
        "\n",
        "    return grouped_df\n",
        "\n",
        "\n",
        "\n",
        "def get_aligned_df(grouped_df_pd):\n",
        "    debug1=False\n",
        "    debug2=False\n",
        "\n",
        "    # Store the original column order\n",
        "    old_columns = grouped_df_pd.columns\n",
        "    if debug2: print('old_columns: ',old_columns)\n",
        "\n",
        "    '''Hungarian algorithm to line up large values on the diagonal'''\n",
        "    # Perform the Hungarian algorithm to solve the assignment problem\n",
        "    _, col_ind = linear_sum_assignment(-grouped_df_pd.values)  # We multiply by -1 to find the maximum assignment\n",
        "    col_names = grouped_df_pd.columns[col_ind]\n",
        "    reordered_df = grouped_df_pd[col_names]\n",
        "    '''End Hungarian algorithm'''\n",
        "\n",
        "    # Identify the remaining columns and add those back\n",
        "    remaining_columns = [col for col in old_columns if col not in col_names]\n",
        "    reordered_df = pd.concat([reordered_df, grouped_df_pd[remaining_columns]], axis=1)\n",
        "\n",
        "    if debug2: print('col_names: ',col_names)\n",
        "    if debug1: print('reordered_df:', reordered_df.head(), '\\n')\n",
        "\n",
        "\n",
        "\n",
        "    # Make a mapping from the old clusters to the new clusters\n",
        "    old_to_new_cluster_index_map = {old:new for old,new in zip(old_columns, reordered_df.columns)}\n",
        "    if debug2: print(old_to_new_cluster_index_map)\n",
        "\n",
        "    # Reset the column-names (so the names of predicted clusters) to start from 0\n",
        "    col_mapping = {col: i for i, col in enumerate(reordered_df.columns)}\n",
        "    reordered_df.columns = [col_mapping.get(col, len(reordered_df.columns)) for col in reordered_df.columns]\n",
        "\n",
        "\n",
        "\n",
        "    return reordered_df, old_to_new_cluster_index_map\n",
        "\n",
        "def plot_confusion_matrix2(clustered_df):\n",
        "    debug1=False\n",
        "    debug2=False\n",
        "\n",
        "    # Get the data from the dataframe into pandas format\n",
        "    grouped_df = get_confusion_matrix(clustered_df)\n",
        "    if debug1: print('grouped_df:\\n', grouped_df, '\\n')\n",
        "\n",
        "    grouped_df_pd = grouped_df.toPandas()\n",
        "    if debug1: print('grouped_df:\\n', grouped_df_pd.head(), '\\n')\n",
        "\n",
        "    grouped_df_pd = grouped_df_pd.set_index('sr\\\\predicted_clusters').fillna(0)\n",
        "    if debug1: print('grouped_df:\\n', grouped_df_pd.head(), '\\n')\n",
        "\n",
        "    # Sort DataFrame rows by index of standard routes (so that they go from 0 to ...)\n",
        "    grouped_df_pd = grouped_df_pd.sort_index(ascending=True)\n",
        "\n",
        "    # Reorder the columns\n",
        "    reordered_df, old_to_new_cluster_index_map = get_aligned_df(grouped_df_pd)\n",
        "    if debug2: print(old_to_new_cluster_index_map)\n",
        "\n",
        "\n",
        "    # Calculate the ideal datapoints per cluster\n",
        "    total_datapoints = reordered_df.sum().sum()\n",
        "    ideal_datapoints_per_cluster = total_datapoints / len(reordered_df.index)\n",
        "\n",
        "    # Normalize each column by its sum or ideal_datapoints_per_cluster, whichever is greater\n",
        "    column_sums = reordered_df.sum(axis=0)\n",
        "    normalizing_values = column_sums.where(column_sums > ideal_datapoints_per_cluster, ideal_datapoints_per_cluster)\n",
        "    normalized_per_column_df = reordered_df.div(normalizing_values, axis=1)\n",
        "\n",
        "    final_df = normalized_per_column_df\n",
        "\n",
        "\n",
        "    # Now visualize the normalized dataframe. But, use the original values for the annotations.\n",
        "    fig, ax = plt.subplots(figsize=(10, 10))\n",
        "    annotation_df = reordered_df.astype(int)\n",
        "\n",
        "    sns.heatmap(final_df,\n",
        "                annot=annotation_df, # Comment out if you want the normalized value per predicted cluster center\n",
        "                # annot=True, # Uncomment if you do the above\n",
        "                fmt='g', cmap='Blues', ax=ax\n",
        "    )\n",
        "\n",
        "    # Change x-ticks to top\n",
        "    ax.xaxis.tick_top()\n",
        "    ax.xaxis.set_label_position('top')\n",
        "\n",
        "    ax.set_xlabel('Cluster Center ID')\n",
        "    ax.set_ylabel('Standard Route ID')\n",
        "    ax.set_title('Confusion Matrix')\n",
        "\n",
        "    # Adjust the position of the title.\n",
        "    ax.title.set_position([.5, 1.05])\n",
        "\n",
        "    return fig\n",
        "\n",
        "\n",
        "\n"
      ],
      "metadata": {
        "id": "V6TowLTKGJYX"
      },
      "execution_count": 47,
      "outputs": []
    },
    {
      "cell_type": "code",
      "source": [
        "# Show confusion matrix\n",
        "confusion_plot = plot_confusion_matrix2(clustered_data) #  indices2from_to_prods)"
      ],
      "metadata": {
        "colab": {
          "base_uri": "https://localhost:8080/",
          "height": 804
        },
        "id": "TrMc-HNe6l_h",
        "outputId": "547f99a6-c8cc-4426-8b93-ab292cfcfa9d"
      },
      "execution_count": 48,
      "outputs": [
        {
          "output_type": "display_data",
          "data": {
            "text/plain": [
              "<Figure size 1000x1000 with 2 Axes>"
            ],
            "image/png": "[encoded data removed]"
          },
          "metadata": {}
        }
      ]
    },
    {
      "cell_type": "code",
      "source": [],
      "metadata": {
        "id": "d1Xc2N-A88to"
      },
      "execution_count": 85,
      "outputs": []
    },
    {
      "cell_type": "code",
      "source": [],
      "metadata": {
        "id": "aZ-sFJnS6mDn"
      },
      "execution_count": null,
      "outputs": []
    },
    {
      "cell_type": "code",
      "source": [],
      "metadata": {
        "id": "GAlZu1Fe6mNi"
      },
      "execution_count": null,
      "outputs": []
    },
    {
      "cell_type": "markdown",
      "metadata": {
        "collapsed": false,
        "id": "FMg9vvjcJsPg"
      },
      "source": [
        "Test all functions you want inside the run_all_tests() during development, for small sample sizes.\n"
      ]
    },
    {
      "cell_type": "markdown",
      "metadata": {
        "collapsed": false,
        "id": "BRrS6t9JJsPg"
      },
      "source": [
        "Code below is for actual result generation later, so that we can easily reuse intermediate values."
      ]
    },
    {
      "cell_type": "markdown",
      "metadata": {
        "id": "qoGwAnHNN743"
      },
      "source": [
        "**Create a spark instance**"
      ]
    },
    {
      "cell_type": "code",
      "execution_count": null,
      "metadata": {
        "colab": {
          "base_uri": "https://localhost:8080/",
          "height": 183
        },
        "id": "MN8NRmi1N743",
        "outputId": "806faa7d-0417-4077-bf75-2d5979a24d2e"
      },
      "outputs": [
        {
          "ename": "NameError",
          "evalue": "ignored",
          "output_type": "error",
          "traceback": [
            "\u001b[0;31m---------------------------------------------------------------------------\u001b[0m",
            "\u001b[0;31mNameError\u001b[0m                                 Traceback (most recent call last)",
            "\u001b[0;32m<ipython-input-5-e48a53e48df8>\u001b[0m in \u001b[0;36m<cell line: 2>\u001b[0;34m()\u001b[0m\n\u001b[1;32m      1\u001b[0m \u001b[0mspark_settings\u001b[0m \u001b[0;34m=\u001b[0m \u001b[0;34m{\u001b[0m\u001b[0;34m}\u001b[0m\u001b[0;34m\u001b[0m\u001b[0;34m\u001b[0m\u001b[0m\n\u001b[0;32m----> 2\u001b[0;31m \u001b[0mspark_instance\u001b[0m \u001b[0;34m=\u001b[0m \u001b[0mmake_spark\u001b[0m\u001b[0;34m(\u001b[0m\u001b[0;34m)\u001b[0m\u001b[0;34m\u001b[0m\u001b[0;34m\u001b[0m\u001b[0m\n\u001b[0m",
            "\u001b[0;31mNameError\u001b[0m: name 'make_spark' is not defined"
          ]
        }
      ],
      "source": [
        "spark_settings = {}\n",
        "spark_instance = make_spark()"
      ]
    },
    {
      "cell_type": "markdown",
      "metadata": {
        "id": "FeNSBK7WN744"
      },
      "source": [
        "**Load and parse data**"
      ]
    },
    {
      "cell_type": "code",
      "execution_count": null,
      "metadata": {
        "id": "Wg4AJxZRN744"
      },
      "outputs": [],
      "source": [
        "# Load and parse data\n",
        "data_for_spark = parse_data()"
      ]
    },
    {
      "cell_type": "markdown",
      "metadata": {
        "id": "z7RmOlOp7Ujp"
      },
      "source": [
        "**Perform clustering**"
      ]
    },
    {
      "cell_type": "code",
      "execution_count": null,
      "metadata": {
        "id": "nqUifQ0kN745"
      },
      "outputs": [],
      "source": [
        "# Run clustering and parameter tuning\n",
        "clustering_settings = {\n",
        "    'clustering_algorithm':'kmodes',\n",
        "}\n",
        "clustering_centroid_outcomes = run_clustering(\n",
        "    spark_instance=spark_instance,\n",
        "    data_for_spark, clustering_settings)"
      ]
    },
    {
      "cell_type": "code",
      "execution_count": null,
      "metadata": {
        "id": "06CxnhSWN745"
      },
      "outputs": [],
      "source": [
        "# Evaluate clustering results\n",
        "clustering_evaluation = evaluate_clustering(clustering_centroid_outcomes)"
      ]
    },
    {
      "cell_type": "markdown",
      "metadata": {
        "id": "WrrnSkhZ7YhR"
      },
      "source": [
        "**Display results**"
      ]
    },
    {
      "cell_type": "code",
      "execution_count": null,
      "metadata": {
        "id": "LWgrghsBN746"
      },
      "outputs": [],
      "source": [
        "# Display results (maybe only best result)\n",
        "clustering_result = display_results(clustering_evaluation"
      ]
    }
  ],
  "metadata": {
    "colab": {
      "provenance": [],
      "include_colab_link": true
    },
    "kernelspec": {
      "display_name": "Python 3",
      "language": "python",
      "name": "python3"
    },
    "language_info": {
      "codemirror_mode": {
        "name": "ipython",
        "version": 3
      },
      "file_extension": ".py",
      "mimetype": "text/x-python",
      "name": "python",
      "nbconvert_exporter": "python",
      "pygments_lexer": "ipython3",
      "version": "3.9.1"
    }
  },
  "nbformat": 4,
  "nbformat_minor": 0
}